{
 "cells": [
  {
   "cell_type": "code",
   "execution_count": 2,
   "metadata": {},
   "outputs": [],
   "source": [
    "import numpy as np\n",
    "from decimal import *\n",
    "import itertools\n",
    "getcontext().prec = 6"
   ]
  },
  {
   "cell_type": "code",
   "execution_count": 3,
   "metadata": {},
   "outputs": [],
   "source": [
    "keys = [\"2961\"]#,\"3564\",\"3856\",\"6695\",\"6729\",\"7089\",\"7371\",\"7784\",\"7884\",\"8594\",\"9327\",\"9918\"]"
   ]
  },
  {
   "cell_type": "code",
   "execution_count": 4,
   "metadata": {},
   "outputs": [],
   "source": [
    "data = open(\"waist_processed_data\\\\2961\\\\other.txt\",\"r+\")\n"
   ]
  },
  {
   "cell_type": "code",
   "execution_count": 32,
   "metadata": {},
   "outputs": [],
   "source": [
    "head =[]\n",
    "with open(\"waist_processed_data\\\\2961\\\\other.txt\") as myfile:\n",
    "    head = [np.array(list(map(float,next(myfile)[:-2].split(\",\")))) for x in range(50000)]\n",
    "\n"
   ]
  },
  {
   "cell_type": "code",
   "execution_count": 33,
   "metadata": {},
   "outputs": [],
   "source": [
    "x = np.array(head)"
   ]
  },
  {
   "cell_type": "code",
   "execution_count": 35,
   "metadata": {},
   "outputs": [],
   "source": [
    "x = x.reshape(500,100,3)"
   ]
  },
  {
   "cell_type": "code",
   "execution_count": 36,
   "metadata": {},
   "outputs": [
    {
     "data": {
      "text/plain": [
       "array([[[-0.305, -1.61 , -0.886],\n",
       "        [ 0.076, -1.176, -0.639],\n",
       "        [ 0.302, -1.091, -0.537],\n",
       "        ...,\n",
       "        [ 0.217,  0.569,  0.232],\n",
       "        [ 0.246,  0.566,  0.065],\n",
       "        [ 0.208,  0.507, -0.07 ]],\n",
       "\n",
       "       [[ 0.12 ,  0.355, -0.167],\n",
       "        [-0.229,  0.182, -0.232],\n",
       "        [-0.727, -0.044, -0.689],\n",
       "        ...,\n",
       "        [-0.17 , -1.199,  0.056],\n",
       "        [-0.088, -0.991, -0.311],\n",
       "        [ 0.062, -0.748, -0.431]],\n",
       "\n",
       "       [[ 0.214, -0.293, -0.499],\n",
       "        [ 0.082,  0.223, -0.475],\n",
       "        [-0.158,  0.537, -0.141],\n",
       "        ...,\n",
       "        [-0.346, -2.912,  0.179],\n",
       "        [ 0.279, -2.868, -0.12 ],\n",
       "        [ 0.378, -2.047, -0.566]],\n",
       "\n",
       "       ...,\n",
       "\n",
       "       [[-0.364, -0.93 , -0.067],\n",
       "        [-0.378, -0.93 , -0.079],\n",
       "        [-0.402, -0.93 , -0.067],\n",
       "        ...,\n",
       "        [-0.328, -0.968, -0.103],\n",
       "        [-0.331, -0.956, -0.114],\n",
       "        [-0.337, -0.95 , -0.111]],\n",
       "\n",
       "       [[-0.346, -0.956, -0.1  ],\n",
       "        [-0.346, -0.959, -0.097],\n",
       "        [-0.337, -0.956, -0.097],\n",
       "        ...,\n",
       "        [-0.346, -0.971, -0.094],\n",
       "        [-0.349, -0.985, -0.094],\n",
       "        [-0.358, -0.991, -0.085]],\n",
       "\n",
       "       [[-0.364, -0.988, -0.088],\n",
       "        [-0.367, -0.979, -0.094],\n",
       "        [-0.375, -0.965, -0.097],\n",
       "        ...,\n",
       "        [-0.147, -0.944, -0.252],\n",
       "        [-0.135, -0.941, -0.255],\n",
       "        [-0.126, -0.95 , -0.255]]])"
      ]
     },
     "execution_count": 36,
     "metadata": {},
     "output_type": "execute_result"
    }
   ],
   "source": [
    "x"
   ]
  },
  {
   "cell_type": "code",
   "execution_count": null,
   "metadata": {},
   "outputs": [],
   "source": [
    "for x in keys:\n",
    "    listData =[]\n",
    "    data = open(\"waist_processed_data\\\\\"+x+\"\\\\other.txt\",\"r+\")\n",
    "    for line in data:\n",
    "        listData.append(line[:-2])\n",
    "    maindata =[]\n",
    "    temp =[]\n",
    "    for i in range(0,len(listData)):\n",
    "        if i%101==0:\n",
    "            maindata.append(np.array(temp))\n",
    "            temp =[]\n",
    "        else:\n",
    "            temp.append(list(map(float,listData[i].split(\",\"))))\n",
    "    print(maindata[1].shape)\n",
    "    z = np.array(maindata[1:])\n",
    "    print(z)\n",
    "    #np.save(x+\"_others\",z)"
   ]
  },
  {
   "cell_type": "code",
   "execution_count": null,
   "metadata": {},
   "outputs": [],
   "source": []
  },
  {
   "cell_type": "code",
   "execution_count": null,
   "metadata": {},
   "outputs": [],
   "source": [
    "x =np.array(maindata[1:])"
   ]
  },
  {
   "cell_type": "code",
   "execution_count": null,
   "metadata": {},
   "outputs": [],
   "source": [
    "np.save(\"0630_others\",x)"
   ]
  },
  {
   "cell_type": "code",
   "execution_count": 4,
   "metadata": {},
   "outputs": [],
   "source": [
    "import numpy as np"
   ]
  },
  {
   "cell_type": "code",
   "execution_count": 6,
   "metadata": {},
   "outputs": [],
   "source": [
    "other1 = np.load('0630_others.npy')\n",
    "other2 = np.load('1674_others.npy')"
   ]
  },
  {
   "cell_type": "code",
   "execution_count": 7,
   "metadata": {},
   "outputs": [
    {
     "data": {
      "text/plain": [
       "(496775, 100, 3)"
      ]
     },
     "execution_count": 7,
     "metadata": {},
     "output_type": "execute_result"
    }
   ],
   "source": [
    "other1.shape"
   ]
  },
  {
   "cell_type": "code",
   "execution_count": 8,
   "metadata": {},
   "outputs": [
    {
     "data": {
      "text/plain": [
       "(1208266, 100, 3)"
      ]
     },
     "execution_count": 8,
     "metadata": {},
     "output_type": "execute_result"
    }
   ],
   "source": [
    "other2.shape"
   ]
  },
  {
   "cell_type": "code",
   "execution_count": 11,
   "metadata": {},
   "outputs": [],
   "source": [
    "#48000\n",
    "from random import shuffle"
   ]
  },
  {
   "cell_type": "code",
   "execution_count": 16,
   "metadata": {},
   "outputs": [],
   "source": [
    "x1 = list(range(1,496775))\n",
    "x2 = list(range(1,1208266))\n",
    "shuffle(x1)\n",
    "shuffle(x2)"
   ]
  },
  {
   "cell_type": "code",
   "execution_count": 25,
   "metadata": {},
   "outputs": [],
   "source": [
    "data1 = other1[x1[:24000]]\n",
    "data2 = other2[x2[:24000]]"
   ]
  },
  {
   "cell_type": "code",
   "execution_count": 28,
   "metadata": {},
   "outputs": [],
   "source": [
    "data = np.concatenate([data1,data2])"
   ]
  },
  {
   "cell_type": "code",
   "execution_count": 29,
   "metadata": {},
   "outputs": [
    {
     "data": {
      "text/plain": [
       "(48000, 100, 3)"
      ]
     },
     "execution_count": 29,
     "metadata": {},
     "output_type": "execute_result"
    }
   ],
   "source": [
    "data.shape"
   ]
  },
  {
   "cell_type": "code",
   "execution_count": 32,
   "metadata": {},
   "outputs": [],
   "source": [
    "pickle.dump(data,open('others.pkl', 'wb'))"
   ]
  },
  {
   "cell_type": "code",
   "execution_count": null,
   "metadata": {},
   "outputs": [],
   "source": []
  }
 ],
 "metadata": {
  "kernelspec": {
   "display_name": "Python 3",
   "language": "python",
   "name": "python3"
  },
  "language_info": {
   "codemirror_mode": {
    "name": "ipython",
    "version": 3
   },
   "file_extension": ".py",
   "mimetype": "text/x-python",
   "name": "python",
   "nbconvert_exporter": "python",
   "pygments_lexer": "ipython3",
   "version": "3.7.5"
  }
 },
 "nbformat": 4,
 "nbformat_minor": 2
}
