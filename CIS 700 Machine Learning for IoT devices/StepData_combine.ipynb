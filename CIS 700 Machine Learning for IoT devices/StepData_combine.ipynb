{
 "cells": [
  {
   "cell_type": "code",
   "execution_count": 1,
   "metadata": {},
   "outputs": [],
   "source": [
    "import numpy as np\n",
    "import pickle\n",
    "import torch\n",
    "import torch.nn as nn\n",
    "import torch.nn.functional as F\n",
    "from torch.autograd import Variable\n",
    "from torch.optim import Adam, SGD\n",
    "from torchsummary import summary\n",
    "from sklearn import preprocessing"
   ]
  },
  {
   "cell_type": "code",
   "execution_count": 2,
   "metadata": {},
   "outputs": [],
   "source": [
    "%reset\n"
   ]
  },
  {
   "cell_type": "code",
   "execution_count": 3,
   "metadata": {},
   "outputs": [],
   "source": [
    "ID_0630=[25,41,33,52,29,37,25,46,45,33,45,44,39,55]\n",
    "ID_1674=[48,67,57,91,51,59,69,73,66,66,64,65,67,75]\n",
    "ID_2961=[67,86,83,94,69,78,86,88,80,81,73,78,86,83]\n",
    "ID_3564=[85,104,89,106,86,90,100,102,96,95,84,94,92]\n",
    "ID_3856=[99,114,106,115,104,100,109,108,108,103,93,113,103,93]\n",
    "ID_6695=[109,118,108,124,118,108,115,114,115,112,100,124,111,101]\n",
    "ID_6729=[118,124,121,129,126,114,122,123,122,121,106,132,118,107]\n",
    "ID_7089=[126,130,132,134,132,140,129,130,130,152,113,142,125,113]\n",
    "ID_7371=[147,150,143,164,143,143,156,138,163,156,119,167,135,121]\n",
    "ID_7784=[150,161,161,176,168,146,160,156,164,166,125,170,168,131]\n",
    "ID_7884=[156,163,164,183,176,147,160,157,166,165,145,175,168,145]\n",
    "ID_8594=[159,167,168,183,183,150,161,162,165,167,147,178,168,148]\n",
    "ID_9327=[163,168,171,185,182,152,162,166,168,172,148,179,171,153]\n",
    "ID_9918=[167,164,175,193,183,153,164,169,171,179,149,179,174,157]"
   ]
  },
  {
   "cell_type": "code",
   "execution_count": 4,
   "metadata": {},
   "outputs": [],
   "source": [
    "from sklearn.model_selection import train_test_split"
   ]
  },
  {
   "cell_type": "code",
   "execution_count": 5,
   "metadata": {},
   "outputs": [],
   "source": [
    "waistDF = pickle.load( open( \"waist_final_10272800_new.pkl\", \"rb\" ))\n",
    "wristDF = pickle.load( open( \"wrist_final_10272800_new.pkl\", \"rb\" ))\n",
    "#otherDF = pickle.load( open( \"others.pkl\", \"rb\" ))\n",
    "wristdrivingDF = pickle.load( open( \"wrist_dirving_final_5200000.pkl\", \"rb\" ) )\n",
    "waistdrivingDF = pickle.load( open( \"waist_dirving_final_5200000.pkl\", \"rb\" ) )\n",
    "wristothersDF = pickle.load( open( \"wrist_others_final_5600000.pkl\", \"rb\" ) )\n",
    "waistothersDF = pickle.load( open( \"waist_others_final_5600000.pkl\", \"rb\" ) )\n"
   ]
  },
  {
   "cell_type": "markdown",
   "metadata": {},
   "source": [
    "<h3>Dataset class</h3>"
   ]
  },
  {
   "cell_type": "code",
   "execution_count": 6,
   "metadata": {},
   "outputs": [
    {
     "data": {
      "text/plain": [
       "\"\\nfrom torch.utils import data\\n\\n\\nclass Dataset(data.Dataset):\\n   \\n    def __init__(self, X1,X2,Y):\\n        'Initialization'\\n        self.X1 = X1\\n        self.X2 = X2\\n        self.Y = Y\\n\\n    def __len__(self):\\n        'Denotes the total number of samples'\\n        return len(self.X1)\\n   \\n    def __getitem__(self, index):\\n        'Generates one sample of data'\\n        # Select sample\\n        x1 = self.X1[index]\\n        x2 = self.X1[index]\\n        y = self.Y[index]\\n\\n        return x1,x2,y\\n        \""
      ]
     },
     "execution_count": 6,
     "metadata": {},
     "output_type": "execute_result"
    }
   ],
   "source": [
    "'''\n",
    "from torch.utils import data\n",
    "\n",
    "\n",
    "class Dataset(data.Dataset):\n",
    "   \n",
    "    def __init__(self, X1,X2,Y):\n",
    "        'Initialization'\n",
    "        self.X1 = X1\n",
    "        self.X2 = X2\n",
    "        self.Y = Y\n",
    "\n",
    "    def __len__(self):\n",
    "        'Denotes the total number of samples'\n",
    "        return len(self.X1)\n",
    "   \n",
    "    def __getitem__(self, index):\n",
    "        'Generates one sample of data'\n",
    "        # Select sample\n",
    "        x1 = self.X1[index]\n",
    "        x2 = self.X1[index]\n",
    "        y = self.Y[index]\n",
    "\n",
    "        return x1,x2,y\n",
    "        '''"
   ]
  },
  {
   "cell_type": "code",
   "execution_count": 122,
   "metadata": {},
   "outputs": [],
   "source": [
    "from torch.utils import data\n",
    "\n",
    "\n",
    "class Dataset(data.Dataset):\n",
    "   \n",
    "    def __init__(self, X1,X2,Y):\n",
    "        'Initialization'\n",
    "        self.X1 = X1\n",
    "        self.X2 = X2\n",
    "        self.Y = Y\n",
    "\n",
    "    def __len__(self):\n",
    "        'Denotes the total number of samples'\n",
    "        return len(self.X1)\n",
    "   \n",
    "    def __getitem__(self, index):\n",
    "        'Generates one sample of data'\n",
    "        # Select sample\n",
    "        x1 = self.X1[index]\n",
    "        x2 = self.X2[index]\n",
    "        y = self.Y[index]\n",
    "\n",
    "        return x1,x2,y"
   ]
  },
  {
   "cell_type": "markdown",
   "metadata": {},
   "source": [
    "<h3>Extracting X train and Y train</h3>"
   ]
  },
  {
   "cell_type": "code",
   "execution_count": 123,
   "metadata": {},
   "outputs": [],
   "source": [
    "XWrist = wristDF[['x','y','z']]\n",
    "YWrist = wristDF[['walk']]\n",
    "XWaist = waistDF[['x','y','z']]\n",
    "YWaist = waistDF[['walk']]\n",
    "\n",
    "XWaistDriving = waistdrivingDF[['x','y','z']]\n",
    "YWaistDriving = waistdrivingDF[['walk']]\n",
    "XWristDriving = wristdrivingDF[['x','y','z']]\n",
    "YWristDriving = wristdrivingDF[['walk']]\n",
    "\n",
    "XWaistothers = waistothersDF[['x','y','z']]\n",
    "YWaistothers = waistothersDF[['walk']]\n",
    "XWristothers = wristothersDF[['x','y','z']]\n",
    "YWristothers = wristothersDF[['walk']]"
   ]
  },
  {
   "cell_type": "code",
   "execution_count": 124,
   "metadata": {},
   "outputs": [],
   "source": [
    "#XWaistDriving"
   ]
  },
  {
   "cell_type": "code",
   "execution_count": 125,
   "metadata": {},
   "outputs": [],
   "source": [
    "###preprocessing data -1 to 1 ###\n",
    "XWrist = preprocessing.normalize(XWrist.values)\n",
    "#YWrist = wristDF[['walk']]\n",
    "XWaist = preprocessing.normalize(XWaist.values)\n",
    "#YWaist = waistDF[['walk']]\n",
    "\n",
    "XWaistDriving = preprocessing.normalize(XWaistDriving.values)\n",
    "#YWaistDriving = waistdrivingDF[['walk']]\n",
    "XWristDriving = preprocessing.normalize(XWristDriving.values)\n",
    "#YWristDriving = wristdrivingDF[['walk']]\n",
    "\n",
    "XWaistothers = preprocessing.normalize(XWaistothers.values)\n",
    "#YWaistothers = waistothersDF[['walk']]\n",
    "XWristothers = preprocessing.normalize(XWristothers.values)\n",
    "#YWristothers = wristothersDF[['walk']]"
   ]
  },
  {
   "cell_type": "code",
   "execution_count": 126,
   "metadata": {},
   "outputs": [
    {
     "data": {
      "text/plain": [
       "array([-0.79147176,  0.26281696, -0.55181492])"
      ]
     },
     "execution_count": 126,
     "metadata": {},
     "output_type": "execute_result"
    }
   ],
   "source": [
    "(XWrist)[57764]"
   ]
  },
  {
   "cell_type": "markdown",
   "metadata": {},
   "source": [
    "<h3>Reshapping the data</h3>"
   ]
  },
  {
   "cell_type": "code",
   "execution_count": 127,
   "metadata": {},
   "outputs": [
    {
     "data": {
      "text/plain": [
       "'\\nX_train = XLabel.values.reshape(93063,100,3)\\nY_train = YLabel.values.reshape(93063,100,1)\\nXd_train = xd.values.reshape(48000,100,3)\\nYd_train = yd.values.reshape(48000,100,1)\\nXOther_train = otherDF\\nYOther_train = np.full((48000,100,1),0)\\n#Y_train = max(z) for z in Y_train\\n'"
      ]
     },
     "execution_count": 127,
     "metadata": {},
     "output_type": "execute_result"
    }
   ],
   "source": [
    "#X_train = XLabel.values.reshape(98918,100,3)\n",
    "#Y_train = YLabel.values.reshape(98918,100,1)\n",
    "XWrist_train = XWrist.reshape(102728,100,3)\n",
    "YWrist_train = np.full((102728,100,1),1)\n",
    "XWaist_train = XWaist.reshape(102728,100,3)\n",
    "YWaist_train = np.full((102728,100,1),1)\n",
    "XWristDriving_train = XWristDriving.reshape(52000,100,3)\n",
    "YWristDriving_train = np.full((52000,100,1),0)\n",
    "XWaistDriving_train = XWaistDriving.reshape(52000,100,3)\n",
    "YWaistDriving_train = np.full((52000,100,1),0)\n",
    "XWristothers_train = XWristothers.reshape(56000,100,3)\n",
    "YWristothers_train = np.full((56000,100,1),0)\n",
    "XWaistothers_train = XWaistothers.reshape(56000,100,3)\n",
    "YWaistothers_train = np.full((56000,100,1),0)\n",
    "\n",
    "'''\n",
    "X_train = XLabel.values.reshape(93063,100,3)\n",
    "Y_train = YLabel.values.reshape(93063,100,1)\n",
    "Xd_train = xd.values.reshape(48000,100,3)\n",
    "Yd_train = yd.values.reshape(48000,100,1)\n",
    "XOther_train = otherDF\n",
    "YOther_train = np.full((48000,100,1),0)\n",
    "#Y_train = max(z) for z in Y_train\n",
    "'''"
   ]
  },
  {
   "cell_type": "code",
   "execution_count": 128,
   "metadata": {},
   "outputs": [],
   "source": [
    "#XWrist_train[50]"
   ]
  },
  {
   "cell_type": "code",
   "execution_count": 129,
   "metadata": {},
   "outputs": [
    {
     "data": {
      "text/plain": [
       "(56000, 100, 3)"
      ]
     },
     "execution_count": 129,
     "metadata": {},
     "output_type": "execute_result"
    }
   ],
   "source": [
    "XWaistothers_train.shape"
   ]
  },
  {
   "cell_type": "code",
   "execution_count": 130,
   "metadata": {},
   "outputs": [
    {
     "data": {
      "text/plain": [
       "(102728, 100, 1)"
      ]
     },
     "execution_count": 130,
     "metadata": {},
     "output_type": "execute_result"
    }
   ],
   "source": [
    "YWrist_train.shape"
   ]
  },
  {
   "cell_type": "code",
   "execution_count": 131,
   "metadata": {},
   "outputs": [],
   "source": [
    "X_train_waist = np.concatenate([XWrist_train,XWristDriving_train,XWristothers_train])\n",
    "Y_train_waist = np.concatenate([YWrist_train,YWristDriving_train,YWristothers_train])\n",
    "X_train_wrist = np.concatenate([XWaist_train,XWaistDriving_train,XWaistothers_train])\n",
    "Y_train_wrist = np.concatenate([YWaist_train,YWaistDriving_train,YWaistothers_train])"
   ]
  },
  {
   "cell_type": "code",
   "execution_count": 132,
   "metadata": {},
   "outputs": [
    {
     "data": {
      "text/plain": [
       "(210728, 100, 3)"
      ]
     },
     "execution_count": 132,
     "metadata": {},
     "output_type": "execute_result"
    }
   ],
   "source": [
    "X_train_waist.shape"
   ]
  },
  {
   "cell_type": "code",
   "execution_count": 133,
   "metadata": {},
   "outputs": [
    {
     "data": {
      "text/plain": [
       "(210728, 100, 1)"
      ]
     },
     "execution_count": 133,
     "metadata": {},
     "output_type": "execute_result"
    }
   ],
   "source": [
    "Y_train_waist.shape"
   ]
  },
  {
   "cell_type": "code",
   "execution_count": 134,
   "metadata": {},
   "outputs": [
    {
     "data": {
      "text/plain": [
       "(210728, 100, 3)"
      ]
     },
     "execution_count": 134,
     "metadata": {},
     "output_type": "execute_result"
    }
   ],
   "source": [
    "X_train_wrist.shape"
   ]
  },
  {
   "cell_type": "code",
   "execution_count": 135,
   "metadata": {},
   "outputs": [
    {
     "data": {
      "text/plain": [
       "(210728, 100, 1)"
      ]
     },
     "execution_count": 135,
     "metadata": {},
     "output_type": "execute_result"
    }
   ],
   "source": [
    "Y_train_wrist.shape"
   ]
  },
  {
   "cell_type": "code",
   "execution_count": 136,
   "metadata": {},
   "outputs": [
    {
     "data": {
      "text/plain": [
       "210728"
      ]
     },
     "execution_count": 136,
     "metadata": {},
     "output_type": "execute_result"
    }
   ],
   "source": [
    "len(X_train_waist)"
   ]
  },
  {
   "cell_type": "code",
   "execution_count": 137,
   "metadata": {},
   "outputs": [
    {
     "data": {
      "text/plain": [
       "210728"
      ]
     },
     "execution_count": 137,
     "metadata": {},
     "output_type": "execute_result"
    }
   ],
   "source": [
    "len(X_train_wrist)"
   ]
  },
  {
   "cell_type": "code",
   "execution_count": 138,
   "metadata": {},
   "outputs": [
    {
     "data": {
      "text/plain": [
       "210728"
      ]
     },
     "execution_count": 138,
     "metadata": {},
     "output_type": "execute_result"
    }
   ],
   "source": [
    "len(Y_train_waist)"
   ]
  },
  {
   "cell_type": "code",
   "execution_count": 139,
   "metadata": {},
   "outputs": [
    {
     "data": {
      "text/plain": [
       "210728"
      ]
     },
     "execution_count": 139,
     "metadata": {},
     "output_type": "execute_result"
    }
   ],
   "source": [
    "len(Y_train_wrist)"
   ]
  },
  {
   "cell_type": "code",
   "execution_count": 140,
   "metadata": {},
   "outputs": [],
   "source": [
    "X_train_combine=[]"
   ]
  },
  {
   "cell_type": "code",
   "execution_count": 141,
   "metadata": {},
   "outputs": [],
   "source": [
    "for i in range (len(X_train_waist)):\n",
    "    temp = []\n",
    "    temp.append(X_train_waist[i])\n",
    "    temp.append(X_train_wrist[i])\n",
    "    X_train_combine.append(temp)"
   ]
  },
  {
   "cell_type": "code",
   "execution_count": 142,
   "metadata": {},
   "outputs": [
    {
     "data": {
      "text/plain": [
       "210728"
      ]
     },
     "execution_count": 142,
     "metadata": {},
     "output_type": "execute_result"
    }
   ],
   "source": [
    "len(X_train_combine)"
   ]
  },
  {
   "cell_type": "code",
   "execution_count": 143,
   "metadata": {},
   "outputs": [],
   "source": [
    "X_train_combine = np.array(X_train_combine)"
   ]
  },
  {
   "cell_type": "code",
   "execution_count": 144,
   "metadata": {},
   "outputs": [],
   "source": [
    "Y_train_combine=[]"
   ]
  },
  {
   "cell_type": "code",
   "execution_count": 145,
   "metadata": {},
   "outputs": [],
   "source": [
    "for i in range (len(Y_train_waist)):\n",
    "    temp = []\n",
    "    temp.append(Y_train_waist[i])\n",
    "    temp.append(Y_train_wrist[i])\n",
    "    Y_train_combine.append(temp)"
   ]
  },
  {
   "cell_type": "code",
   "execution_count": 146,
   "metadata": {},
   "outputs": [
    {
     "data": {
      "text/plain": [
       "210728"
      ]
     },
     "execution_count": 146,
     "metadata": {},
     "output_type": "execute_result"
    }
   ],
   "source": [
    "len(Y_train_combine)"
   ]
  },
  {
   "cell_type": "code",
   "execution_count": 147,
   "metadata": {},
   "outputs": [],
   "source": [
    "Y_train_combine = np.array(Y_train_combine)"
   ]
  },
  {
   "cell_type": "code",
   "execution_count": 148,
   "metadata": {},
   "outputs": [
    {
     "name": "stdout",
     "output_type": "stream",
     "text": [
      "(210728, 100, 3)\n",
      "(210728, 100, 1)\n",
      "(210728, 2, 100, 1)\n"
     ]
    }
   ],
   "source": [
    "print(X_train_waist.shape)\n",
    "print(Y_train_waist.shape)\n",
    "print(Y_train_combine.shape)"
   ]
  },
  {
   "cell_type": "markdown",
   "metadata": {},
   "source": [
    "<h3>Training, validation and test split</h3>"
   ]
  },
  {
   "cell_type": "code",
   "execution_count": 149,
   "metadata": {},
   "outputs": [],
   "source": [
    "#waist_train_x, waist_val_x, waist_train_y, waist_val_y = train_test_split(X_train_waist, Y_train_waist, test_size = 0.2,train_size=0.8)\n",
    "#print(waist_val_x.shape,waist_val_y.shape)\n",
    "#waist_test_x, waist_val_x, waist_test_y, waist_val_y = train_test_split(waist_val_x, waist_val_y, test_size = 0.5,train_size=0.5)"
   ]
  },
  {
   "cell_type": "code",
   "execution_count": 150,
   "metadata": {},
   "outputs": [],
   "source": [
    "#print(waist_train_x.shape,waist_train_y.shape)\n",
    "#print(waist_val_x.shape,waist_val_y.shape)\n",
    "#print(waist_test_x.shape,waist_test_y.shape)"
   ]
  },
  {
   "cell_type": "code",
   "execution_count": 151,
   "metadata": {},
   "outputs": [
    {
     "name": "stdout",
     "output_type": "stream",
     "text": [
      "(63219, 2, 100, 3) (63219, 2, 100, 1)\n"
     ]
    }
   ],
   "source": [
    "combine_train_x, combine_val_x, combine_y, combine_val_y = train_test_split(X_train_combine, Y_train_combine, test_size = 0.3,train_size=0.7)\n",
    "print(combine_val_x.shape,combine_val_y.shape)\n",
    "combine_test_x, combine_val_x, combine_test_y, combine_val_y = train_test_split(combine_val_x, combine_val_y, test_size = 2/3,train_size=1/3)"
   ]
  },
  {
   "cell_type": "code",
   "execution_count": null,
   "metadata": {},
   "outputs": [],
   "source": []
  },
  {
   "cell_type": "code",
   "execution_count": 152,
   "metadata": {},
   "outputs": [
    {
     "name": "stdout",
     "output_type": "stream",
     "text": [
      "(147509, 2, 100, 3) (147509, 2, 100, 1)\n",
      "(42146, 2, 100, 3) (42146, 2, 100, 1)\n",
      "(21073, 2, 100, 3) (21073, 2, 100, 1)\n"
     ]
    }
   ],
   "source": [
    "print(combine_train_x.shape,combine_y.shape)\n",
    "print(combine_val_x.shape,combine_val_y.shape)\n",
    "print(combine_test_x.shape,combine_test_y.shape)"
   ]
  },
  {
   "cell_type": "code",
   "execution_count": 153,
   "metadata": {},
   "outputs": [],
   "source": [
    "waist_train_x=[] \n",
    "waist_train_y=[]\n",
    "waist_val_x=[]\n",
    "waist_val_y=[]\n",
    "waist_test_x=[]\n",
    "waist_test_y=[]\n",
    "wrist_train_x=[] \n",
    "wrist_train_y=[]\n",
    "wrist_val_x=[]\n",
    "wrist_val_y=[]\n",
    "wrist_test_x=[]\n",
    "wrist_test_y=[]"
   ]
  },
  {
   "cell_type": "code",
   "execution_count": null,
   "metadata": {},
   "outputs": [],
   "source": []
  },
  {
   "cell_type": "code",
   "execution_count": 154,
   "metadata": {},
   "outputs": [],
   "source": [
    "for i in range (len(combine_train_x)):\n",
    "    #temp = []\n",
    "    waist_train_x.append(combine_train_x[i][0])\n",
    "    wrist_train_x.append(combine_train_x[i][1])\n",
    "    \n",
    "for i in range (len(combine_y)):\n",
    "    #temp = []\n",
    "    waist_train_y.append(combine_y[i][0])\n",
    "    wrist_train_y.append(combine_y[i][1])\n",
    "    \n",
    "    \n",
    "for i in range (len(combine_val_x)):\n",
    "    #temp = []\n",
    "    waist_val_x.append(combine_val_x[i][0])\n",
    "    wrist_val_x.append(combine_val_x[i][1])\n",
    "    \n",
    "for i in range (len(combine_val_y)):\n",
    "    #temp = []\n",
    "    waist_val_y.append(combine_val_y[i][0])\n",
    "    wrist_val_y.append(combine_val_y[i][1])\n",
    "    \n",
    "    \n",
    "for i in range (len(combine_test_x)):\n",
    "    #temp = []\n",
    "    waist_test_x.append(combine_test_x[i][0])\n",
    "    wrist_test_x.append(combine_test_x[i][1])\n",
    "    \n",
    "for i in range (len(combine_test_y)):\n",
    "    #temp = []\n",
    "    waist_test_y.append(combine_test_y[i][0])\n",
    "    wrist_test_y.append(combine_test_y[i][1])"
   ]
  },
  {
   "cell_type": "code",
   "execution_count": 155,
   "metadata": {},
   "outputs": [
    {
     "data": {
      "text/plain": [
       "42146"
      ]
     },
     "execution_count": 155,
     "metadata": {},
     "output_type": "execute_result"
    }
   ],
   "source": [
    "len(wrist_val_y)"
   ]
  },
  {
   "cell_type": "code",
   "execution_count": 156,
   "metadata": {},
   "outputs": [],
   "source": [
    "waist_train_x=np.array(waist_train_x)\n",
    "waist_train_y=np.array(waist_train_y)\n",
    "waist_val_x=np.array(waist_val_x)\n",
    "waist_val_y=np.array(waist_val_y)\n",
    "waist_test_x=np.array(waist_test_x)\n",
    "waist_test_y=np.array(waist_test_y)\n",
    "wrist_train_x=np.array(wrist_train_x)\n",
    "wrist_train_y=np.array(wrist_train_y)\n",
    "wrist_val_x=np.array(wrist_val_x)\n",
    "wrist_val_y=np.array(wrist_val_y)\n",
    "wrist_test_x=np.array(wrist_test_x)\n",
    "wrist_test_y=np.array(wrist_test_y)"
   ]
  },
  {
   "cell_type": "code",
   "execution_count": 157,
   "metadata": {},
   "outputs": [],
   "source": [
    " #waist_train_y == wrist_train_y"
   ]
  },
  {
   "cell_type": "code",
   "execution_count": 158,
   "metadata": {},
   "outputs": [
    {
     "data": {
      "text/plain": [
       "20672.800000000003"
      ]
     },
     "execution_count": 158,
     "metadata": {},
     "output_type": "execute_result"
    }
   ],
   "source": [
    "206728*0.1"
   ]
  },
  {
   "cell_type": "code",
   "execution_count": 159,
   "metadata": {},
   "outputs": [],
   "source": [
    "#wrist_train_x, wrist_val_x, wrist_train_y, wrist_val_y = train_test_split(X_train_wrist, Y_train_wrist, test_size = 0.2,train_size=0.8)\n",
    "#print(waist_val_x.shape,waist_val_y.shape)\n",
    "#wrist_test_x, wrist_val_x, wrist_test_y, wrist_val_y = train_test_split(wrist_val_x, wrist_val_y, test_size = 0.5,train_size=0.5)"
   ]
  },
  {
   "cell_type": "code",
   "execution_count": 160,
   "metadata": {},
   "outputs": [
    {
     "name": "stdout",
     "output_type": "stream",
     "text": [
      "(147509, 100, 3) (147509, 100, 1)\n",
      "(42146, 100, 3) (42146, 100, 1)\n",
      "(21073, 100, 3) (21073, 100, 1)\n"
     ]
    }
   ],
   "source": [
    "print(waist_train_x.shape,waist_train_y.shape)\n",
    "print(waist_val_x.shape,waist_val_y.shape)\n",
    "print(waist_test_x.shape,waist_test_y.shape)"
   ]
  },
  {
   "cell_type": "code",
   "execution_count": 161,
   "metadata": {},
   "outputs": [
    {
     "name": "stdout",
     "output_type": "stream",
     "text": [
      "(147509, 100, 3) (147509, 100, 1)\n",
      "(42146, 100, 3) (42146, 100, 1)\n",
      "(21073, 100, 3) (21073, 100, 1)\n"
     ]
    }
   ],
   "source": [
    "print(wrist_train_x.shape,wrist_train_y.shape)\n",
    "print(wrist_val_x.shape,wrist_val_y.shape)\n",
    "print(wrist_test_x.shape,wrist_test_y.shape)"
   ]
  },
  {
   "cell_type": "code",
   "execution_count": 162,
   "metadata": {},
   "outputs": [],
   "source": [
    "X_trainWaist = waist_train_x.reshape(147509,1,100,3)\n",
    "Y_trainWaist = waist_train_y.reshape(147509,100)\n",
    "Y_trainWaist = np.array([max(z) for z in Y_trainWaist])\n",
    "\n",
    "\n",
    "X_valWaist = waist_val_x.reshape(42146,1,100,3)\n",
    "Y_valWaist = waist_val_y.reshape(42146,100)\n",
    "Y_valWaist = np.array([max(z) for z in Y_valWaist])\n",
    "\n",
    "#X_test = test_x.reshape(97459,1,100,3)\n",
    "#Y_test = test_y.reshape(97459,100)\n",
    "X_testWaist = waist_test_x.reshape(21073,1,100,3)\n",
    "Y_testWaist = waist_test_y.reshape(21073,100)\n",
    "Y_testWaist = np.array([max(z) for z in Y_testWaist])"
   ]
  },
  {
   "cell_type": "code",
   "execution_count": 163,
   "metadata": {},
   "outputs": [
    {
     "name": "stdout",
     "output_type": "stream",
     "text": [
      "(147509, 1, 100, 3) (147509,)\n",
      "(42146, 1, 100, 3) (42146,)\n",
      "(21073, 1, 100, 3) (21073,)\n"
     ]
    }
   ],
   "source": [
    "print(X_trainWaist.shape,Y_trainWaist.shape)\n",
    "print(X_valWaist.shape,Y_valWaist.shape)\n",
    "print(X_testWaist.shape,Y_testWaist.shape)"
   ]
  },
  {
   "cell_type": "code",
   "execution_count": 164,
   "metadata": {},
   "outputs": [],
   "source": [
    "X_trainWrist = wrist_train_x.reshape(147509,1,100,3)\n",
    "Y_trainWrist = wrist_train_y.reshape(147509,100)\n",
    "Y_trainWrist = np.array([max(z) for z in Y_trainWrist])\n",
    "\n",
    "\n",
    "X_valWrist = wrist_val_x.reshape(42146,1,100,3)\n",
    "Y_valWrist = wrist_val_y.reshape(42146,100)\n",
    "Y_valWrist = np.array([max(z) for z in Y_valWrist])\n",
    "\n",
    "#X_test = test_x.reshape(97459,1,100,3)\n",
    "#Y_test = test_y.reshape(97459,100)\n",
    "X_testWrist = waist_test_x.reshape(21073,1,100,3)\n",
    "Y_testWrist = waist_test_y.reshape(21073,100)\n",
    "Y_testWrist = np.array([max(z) for z in Y_testWrist])"
   ]
  },
  {
   "cell_type": "code",
   "execution_count": 165,
   "metadata": {},
   "outputs": [
    {
     "data": {
      "text/plain": [
       "array([1, 1, 0, ..., 1, 0, 0])"
      ]
     },
     "execution_count": 165,
     "metadata": {},
     "output_type": "execute_result"
    }
   ],
   "source": [
    "Y_trainWrist"
   ]
  },
  {
   "cell_type": "code",
   "execution_count": 166,
   "metadata": {},
   "outputs": [
    {
     "data": {
      "text/plain": [
       "array([1, 1, 0, ..., 1, 0, 0])"
      ]
     },
     "execution_count": 166,
     "metadata": {},
     "output_type": "execute_result"
    }
   ],
   "source": [
    "Y_trainWaist"
   ]
  },
  {
   "cell_type": "code",
   "execution_count": 167,
   "metadata": {},
   "outputs": [
    {
     "name": "stdout",
     "output_type": "stream",
     "text": [
      "(147509, 1, 100, 3) (147509,)\n",
      "(42146, 1, 100, 3) (42146,)\n",
      "(21073, 1, 100, 3) (21073,)\n"
     ]
    }
   ],
   "source": [
    "print(X_trainWrist.shape,Y_trainWrist.shape)\n",
    "print(X_valWrist.shape,Y_valWrist.shape)\n",
    "print(X_testWrist.shape,Y_testWrist.shape)"
   ]
  },
  {
   "cell_type": "code",
   "execution_count": 52,
   "metadata": {},
   "outputs": [],
   "source": [
    "np.save('splitdata/X_trainWristfinal_combine5', X_trainWrist) \n",
    "np.save('splitdata/Y_trainWristfinal_combine5', Y_trainWrist) \n",
    "np.save('splitdata/X_valWristfinal_combine5', X_valWrist) \n",
    "np.save('splitdata/Y_valWristfinal_combine5', Y_valWrist) \n",
    "np.save('splitdata/X_testWristfinal_combine5', X_testWrist) \n",
    "np.save('splitdata/Y_testWristfinal_combine5', Y_testWrist) \n",
    "\n",
    "\n",
    "np.save('splitdata/X_trainWaistfinal_combine5', X_trainWaist) \n",
    "np.save('splitdata/Y_trainWaistfinal_combine5', Y_trainWaist) \n",
    "np.save('splitdata/X_valWaistfinal_combine5', X_valWaist) \n",
    "np.save('splitdata/Y_valWaistfinal_combine5', Y_valWaist) \n",
    "np.save('splitdata/X_testWaistfinal_combine5', X_testWaist) \n",
    "np.save('splitdata/Y_testWaistfinal_combine5', Y_testWaist) \n",
    "\n"
   ]
  },
  {
   "cell_type": "code",
   "execution_count": null,
   "metadata": {},
   "outputs": [],
   "source": []
  },
  {
   "cell_type": "code",
   "execution_count": null,
   "metadata": {},
   "outputs": [],
   "source": []
  },
  {
   "cell_type": "markdown",
   "metadata": {},
   "source": [
    "<h3>Tensors</h3>"
   ]
  },
  {
   "cell_type": "code",
   "execution_count": 168,
   "metadata": {},
   "outputs": [],
   "source": [
    "X_trainWaist = torch.from_numpy(X_trainWaist)\n",
    "Y_trainWaist = torch.from_numpy(Y_trainWaist)"
   ]
  },
  {
   "cell_type": "code",
   "execution_count": 169,
   "metadata": {},
   "outputs": [],
   "source": [
    "X_trainWrist = torch.from_numpy(X_trainWrist)\n",
    "Y_trainWrist = torch.from_numpy(Y_trainWrist)"
   ]
  },
  {
   "cell_type": "code",
   "execution_count": 170,
   "metadata": {},
   "outputs": [
    {
     "name": "stdout",
     "output_type": "stream",
     "text": [
      "torch.Size([147509, 1, 100, 3]) torch.Size([147509, 1, 100, 3])\n"
     ]
    }
   ],
   "source": [
    "print(X_trainWaist.shape,X_trainWaist.shape)"
   ]
  },
  {
   "cell_type": "code",
   "execution_count": 171,
   "metadata": {},
   "outputs": [
    {
     "name": "stdout",
     "output_type": "stream",
     "text": [
      "torch.Size([147509, 1, 100, 3]) torch.Size([147509, 1, 100, 3])\n"
     ]
    }
   ],
   "source": [
    "print(X_trainWrist.shape,X_trainWrist.shape)"
   ]
  },
  {
   "cell_type": "code",
   "execution_count": 172,
   "metadata": {},
   "outputs": [],
   "source": [
    "X_valWaist = torch.from_numpy(X_valWaist)\n",
    "Y_valWaist = torch.from_numpy(Y_valWaist)"
   ]
  },
  {
   "cell_type": "code",
   "execution_count": 173,
   "metadata": {},
   "outputs": [
    {
     "name": "stdout",
     "output_type": "stream",
     "text": [
      "torch.Size([42146, 1, 100, 3]) torch.Size([42146])\n"
     ]
    }
   ],
   "source": [
    "print(X_valWaist.shape,Y_valWaist.shape)"
   ]
  },
  {
   "cell_type": "code",
   "execution_count": 174,
   "metadata": {},
   "outputs": [],
   "source": [
    "X_valWrist = torch.from_numpy(X_valWrist)\n",
    "Y_valWrist = torch.from_numpy(Y_valWrist)"
   ]
  },
  {
   "cell_type": "code",
   "execution_count": 175,
   "metadata": {},
   "outputs": [
    {
     "name": "stdout",
     "output_type": "stream",
     "text": [
      "torch.Size([42146, 1, 100, 3]) torch.Size([42146])\n"
     ]
    }
   ],
   "source": [
    "print(X_valWrist.shape,Y_valWrist.shape)"
   ]
  },
  {
   "cell_type": "code",
   "execution_count": 176,
   "metadata": {},
   "outputs": [],
   "source": [
    "X_testWaist = torch.from_numpy(X_testWaist)\n",
    "Y_testWaist = torch.from_numpy(Y_testWaist)"
   ]
  },
  {
   "cell_type": "code",
   "execution_count": 177,
   "metadata": {},
   "outputs": [
    {
     "name": "stdout",
     "output_type": "stream",
     "text": [
      "torch.Size([21073, 1, 100, 3]) torch.Size([21073])\n"
     ]
    }
   ],
   "source": [
    "print(X_testWaist.shape,Y_testWaist.shape)"
   ]
  },
  {
   "cell_type": "code",
   "execution_count": 178,
   "metadata": {},
   "outputs": [],
   "source": [
    "X_testWrist = torch.from_numpy(X_testWrist)\n",
    "Y_testWrist = torch.from_numpy(Y_testWrist)"
   ]
  },
  {
   "cell_type": "code",
   "execution_count": 179,
   "metadata": {},
   "outputs": [
    {
     "name": "stdout",
     "output_type": "stream",
     "text": [
      "torch.Size([21073, 1, 100, 3]) torch.Size([21073])\n"
     ]
    }
   ],
   "source": [
    "print(X_testWrist.shape,Y_testWrist.shape)"
   ]
  },
  {
   "cell_type": "code",
   "execution_count": 180,
   "metadata": {},
   "outputs": [
    {
     "name": "stdout",
     "output_type": "stream",
     "text": [
      "torch.Size([147509, 1, 100, 3])\n",
      "torch.Size([147509])\n"
     ]
    }
   ],
   "source": [
    "print(X_trainWaist.shape)\n",
    "print(Y_trainWaist.shape)"
   ]
  },
  {
   "cell_type": "code",
   "execution_count": 181,
   "metadata": {},
   "outputs": [],
   "source": [
    "import torch\n",
    "from torch.utils import data\n",
    "\n",
    "# CUDA for PyTorch\n",
    "use_cuda = torch.cuda.is_available()\n",
    "device = torch.device(\"cuda:0\" if use_cuda else \"cpu\")\n",
    "\n",
    "# Parameters\n",
    "params = {'batch_size': 64,'num_workers': 6}\n",
    "#params = {'batch_size': 256,'num_workers': 6}\n",
    "max_epochs = 10\n",
    "\n",
    "\n",
    "# Generators\n",
    "training_setCombine = Dataset(X_trainWaist, X_trainWrist, Y_trainWaist)\n",
    "training_generatorCombine = data.DataLoader(training_setCombine, **params)\n",
    "\n",
    "\n",
    "validation_setCombine = Dataset(X_valWaist,X_valWrist, Y_valWaist)\n",
    "validation_generatorCombine = data.DataLoader(validation_setCombine, **params)\n",
    "\n",
    "test_set = Dataset(X_testWaist,X_testWrist, Y_testWaist)\n",
    "testset_generatorCombine = data.DataLoader(test_set, **params)\n",
    "\n",
    "\n",
    "\n"
   ]
  },
  {
   "cell_type": "code",
   "execution_count": 182,
   "metadata": {},
   "outputs": [
    {
     "data": {
      "text/plain": [
       "(tensor([[[ 0.0000,  0.0000,  0.0000],\n",
       "          [ 0.0000,  0.0000,  0.0000],\n",
       "          [ 0.0000,  0.0000,  0.0000],\n",
       "          [ 0.0000,  0.0000,  0.0000],\n",
       "          [ 0.0000,  0.0000,  0.0000],\n",
       "          [ 0.0000,  0.0000,  0.0000],\n",
       "          [ 0.0000,  0.0000,  0.0000],\n",
       "          [ 0.0000,  0.0000,  0.0000],\n",
       "          [ 0.0000,  0.0000,  0.0000],\n",
       "          [ 0.0000,  0.0000,  0.0000],\n",
       "          [ 0.0000,  0.0000,  0.0000],\n",
       "          [ 0.0000,  0.0000,  0.0000],\n",
       "          [ 0.0000,  0.0000,  0.0000],\n",
       "          [ 0.0000,  0.0000,  0.0000],\n",
       "          [ 0.2039,  0.9790, -0.0058],\n",
       "          [ 0.2230,  0.9743, -0.0312],\n",
       "          [ 0.2543,  0.9665, -0.0361],\n",
       "          [ 0.2890,  0.9572, -0.0147],\n",
       "          [ 0.3061,  0.9518,  0.0192],\n",
       "          [ 0.2975,  0.9537,  0.0444],\n",
       "          [ 0.2792,  0.9582,  0.0624],\n",
       "          [ 0.2542,  0.9640,  0.0778],\n",
       "          [ 0.2345,  0.9687,  0.0808],\n",
       "          [ 0.2185,  0.9726,  0.0798],\n",
       "          [ 0.1980,  0.9772,  0.0768],\n",
       "          [ 0.1798,  0.9815,  0.0665],\n",
       "          [ 0.1598,  0.9859,  0.0500],\n",
       "          [ 0.1459,  0.9887,  0.0344],\n",
       "          [ 0.1250,  0.9914,  0.0383],\n",
       "          [ 0.1021,  0.9938,  0.0439],\n",
       "          [ 0.0706,  0.9961,  0.0537],\n",
       "          [ 0.0428,  0.9966,  0.0703],\n",
       "          [ 0.0070,  0.9949,  0.1008],\n",
       "          [-0.0504,  0.9892,  0.1375],\n",
       "          [-0.1194,  0.9759,  0.1827],\n",
       "          [-0.2170,  0.9549,  0.2029],\n",
       "          [-0.3023,  0.9277,  0.2192],\n",
       "          [-0.3341,  0.9083,  0.2519],\n",
       "          [-0.2857,  0.9212,  0.2640],\n",
       "          [-0.2050,  0.9439,  0.2590],\n",
       "          [-0.1068,  0.9616,  0.2526],\n",
       "          [ 0.0209,  0.9744,  0.2240],\n",
       "          [ 0.1842,  0.9739,  0.1323],\n",
       "          [ 0.3236,  0.9461,  0.0086],\n",
       "          [ 0.3719,  0.9227, -0.1017],\n",
       "          [ 0.3427,  0.9279, -0.1471],\n",
       "          [ 0.2797,  0.9480, -0.1519],\n",
       "          [ 0.2356,  0.9607, -0.1465],\n",
       "          [ 0.2096,  0.9677, -0.1397],\n",
       "          [ 0.2008,  0.9702, -0.1354],\n",
       "          [ 0.1985,  0.9721, -0.1250],\n",
       "          [ 0.1801,  0.9773, -0.1111],\n",
       "          [ 0.1511,  0.9835, -0.0996],\n",
       "          [ 0.1169,  0.9885, -0.0960],\n",
       "          [ 0.0829,  0.9921, -0.0942],\n",
       "          [ 0.0692,  0.9928, -0.0977],\n",
       "          [ 0.0808,  0.9912, -0.1047],\n",
       "          [ 0.1246,  0.9844, -0.1246],\n",
       "          [ 0.1805,  0.9722, -0.1493],\n",
       "          [ 0.2316,  0.9605, -0.1541],\n",
       "          [ 0.2580,  0.9556, -0.1422],\n",
       "          [ 0.2647,  0.9537, -0.1427],\n",
       "          [ 0.2532,  0.9585, -0.1311],\n",
       "          [ 0.2304,  0.9669, -0.1091],\n",
       "          [ 0.2260,  0.9699, -0.0903],\n",
       "          [ 0.2791,  0.9573, -0.0753],\n",
       "          [ 0.3879,  0.9195, -0.0637],\n",
       "          [ 0.5031,  0.8620, -0.0618],\n",
       "          [ 0.5904,  0.8054, -0.0526],\n",
       "          [ 0.6472,  0.7609, -0.0469],\n",
       "          [ 0.6796,  0.7328, -0.0339],\n",
       "          [ 0.6774,  0.7351, -0.0279],\n",
       "          [ 0.6501,  0.7597, -0.0184],\n",
       "          [ 0.6227,  0.7824,  0.0000],\n",
       "          [ 0.6063,  0.7951,  0.0163],\n",
       "          [ 0.6080,  0.7938,  0.0143],\n",
       "          [ 0.6299,  0.7767, -0.0070],\n",
       "          [ 0.6504,  0.7590, -0.0286],\n",
       "          [ 0.6491,  0.7601, -0.0288],\n",
       "          [ 0.5962,  0.8029,  0.0021],\n",
       "          [ 0.5056,  0.8611,  0.0540],\n",
       "          [ 0.3992,  0.9121,  0.0936],\n",
       "          [ 0.3076,  0.9457,  0.1048],\n",
       "          [ 0.2332,  0.9682,  0.0911],\n",
       "          [ 0.1868,  0.9805,  0.0618],\n",
       "          [ 0.0000,  0.0000,  0.0000],\n",
       "          [ 0.0000,  0.0000,  0.0000],\n",
       "          [ 0.0000,  0.0000,  0.0000],\n",
       "          [ 0.0000,  0.0000,  0.0000],\n",
       "          [ 0.0000,  0.0000,  0.0000],\n",
       "          [ 0.0000,  0.0000,  0.0000],\n",
       "          [ 0.0000,  0.0000,  0.0000],\n",
       "          [ 0.0000,  0.0000,  0.0000],\n",
       "          [ 0.0000,  0.0000,  0.0000],\n",
       "          [ 0.0000,  0.0000,  0.0000],\n",
       "          [ 0.0000,  0.0000,  0.0000],\n",
       "          [ 0.0000,  0.0000,  0.0000],\n",
       "          [ 0.0000,  0.0000,  0.0000],\n",
       "          [ 0.0000,  0.0000,  0.0000],\n",
       "          [ 0.0000,  0.0000,  0.0000]]], dtype=torch.float64),\n",
       " tensor([[[ 0.0000,  0.0000,  0.0000],\n",
       "          [ 0.0000,  0.0000,  0.0000],\n",
       "          [ 0.0000,  0.0000,  0.0000],\n",
       "          [ 0.0000,  0.0000,  0.0000],\n",
       "          [ 0.0000,  0.0000,  0.0000],\n",
       "          [ 0.0000,  0.0000,  0.0000],\n",
       "          [ 0.0000,  0.0000,  0.0000],\n",
       "          [ 0.0000,  0.0000,  0.0000],\n",
       "          [ 0.0000,  0.0000,  0.0000],\n",
       "          [ 0.0000,  0.0000,  0.0000],\n",
       "          [ 0.0000,  0.0000,  0.0000],\n",
       "          [ 0.0000,  0.0000,  0.0000],\n",
       "          [ 0.0000,  0.0000,  0.0000],\n",
       "          [ 0.0000,  0.0000,  0.0000],\n",
       "          [-0.1974, -0.9632, -0.1824],\n",
       "          [-0.3840, -0.9184, -0.0959],\n",
       "          [-0.6380, -0.7648, -0.0898],\n",
       "          [-0.8372, -0.5083, -0.2016],\n",
       "          [-0.8964, -0.2346, -0.3761],\n",
       "          [-0.8560, -0.0905, -0.5089],\n",
       "          [-0.5431, -0.3172, -0.7775],\n",
       "          [-0.1529, -0.7812, -0.6053],\n",
       "          [ 0.1001, -0.9205, -0.3777],\n",
       "          [ 0.1797, -0.9438, -0.2774],\n",
       "          [ 0.1740, -0.9553, -0.2392],\n",
       "          [ 0.0794, -0.9633, -0.2563],\n",
       "          [-0.0651, -0.9546, -0.2907],\n",
       "          [-0.3100, -0.8892, -0.3364],\n",
       "          [-0.6480, -0.6896, -0.3232],\n",
       "          [-0.8527, -0.4891, -0.1834],\n",
       "          [-0.8742, -0.4805, -0.0699],\n",
       "          [-0.8313, -0.5548, -0.0327],\n",
       "          [-0.8004, -0.5938, -0.0822],\n",
       "          [-0.7351, -0.6677, -0.1179],\n",
       "          [-0.5905, -0.7939, -0.1449],\n",
       "          [-0.3589, -0.9253, -0.1224],\n",
       "          [-0.1516, -0.9828, -0.1052],\n",
       "          [-0.0411, -0.9981, -0.0454],\n",
       "          [-0.0228, -0.9931, -0.1154],\n",
       "          [-0.0660, -0.9942, -0.0850],\n",
       "          [-0.0985, -0.9906, -0.0953],\n",
       "          [-0.1224, -0.9781, -0.1684],\n",
       "          [-0.0869, -0.9590, -0.2699],\n",
       "          [-0.0087, -0.9516, -0.3072],\n",
       "          [ 0.1204, -0.9516, -0.2827],\n",
       "          [ 0.2405, -0.9480, -0.2085],\n",
       "          [ 0.3435, -0.9264, -0.1542],\n",
       "          [ 0.3785, -0.9107, -0.1653],\n",
       "          [ 0.3024, -0.9257, -0.2272],\n",
       "          [ 0.1747, -0.9361, -0.3054],\n",
       "          [-0.0373, -0.9590, -0.2810],\n",
       "          [-0.3648, -0.9082, -0.2055],\n",
       "          [-0.6307, -0.7520, -0.1918],\n",
       "          [-0.6975, -0.6772, -0.2344],\n",
       "          [-0.6520, -0.7215, -0.2330],\n",
       "          [-0.5777, -0.7841, -0.2267],\n",
       "          [-0.5330, -0.8261, -0.1830],\n",
       "          [-0.4808, -0.8687, -0.1189],\n",
       "          [-0.3803, -0.9222, -0.0697],\n",
       "          [-0.2709, -0.9602, -0.0685],\n",
       "          [-0.2234, -0.9698, -0.0976],\n",
       "          [-0.2413, -0.9566, -0.1631],\n",
       "          [-0.2753, -0.9187, -0.2833],\n",
       "          [-0.2185, -0.8538, -0.4726],\n",
       "          [-0.0796, -0.9129, -0.4005],\n",
       "          [ 0.2708, -0.7733, -0.5733],\n",
       "          [ 0.4468, -0.8295, -0.3351],\n",
       "          [ 0.5153, -0.7789, -0.3575],\n",
       "          [ 0.4864, -0.8143, -0.3168],\n",
       "          [ 0.3913, -0.8524, -0.3468],\n",
       "          [ 0.2544, -0.8479, -0.4652],\n",
       "          [ 0.0439, -0.7813, -0.6226],\n",
       "          [-0.1903, -0.6687, -0.7188],\n",
       "          [-0.2771, -0.6199, -0.7341],\n",
       "          [-0.2286, -0.7962, -0.5601],\n",
       "          [-0.0618, -0.9249, -0.3751],\n",
       "          [ 0.0357, -0.9613, -0.2733],\n",
       "          [ 0.0758, -0.9612, -0.2654],\n",
       "          [ 0.1160, -0.9451, -0.3055],\n",
       "          [ 0.1471, -0.9338, -0.3260],\n",
       "          [ 0.1255, -0.9254, -0.3576],\n",
       "          [ 0.0481, -0.9283, -0.3687],\n",
       "          [-0.0534, -0.9329, -0.3562],\n",
       "          [-0.1266, -0.9199, -0.3711],\n",
       "          [-0.1156, -0.9141, -0.3886],\n",
       "          [ 0.0000,  0.0000,  0.0000],\n",
       "          [ 0.0000,  0.0000,  0.0000],\n",
       "          [ 0.0000,  0.0000,  0.0000],\n",
       "          [ 0.0000,  0.0000,  0.0000],\n",
       "          [ 0.0000,  0.0000,  0.0000],\n",
       "          [ 0.0000,  0.0000,  0.0000],\n",
       "          [ 0.0000,  0.0000,  0.0000],\n",
       "          [ 0.0000,  0.0000,  0.0000],\n",
       "          [ 0.0000,  0.0000,  0.0000],\n",
       "          [ 0.0000,  0.0000,  0.0000],\n",
       "          [ 0.0000,  0.0000,  0.0000],\n",
       "          [ 0.0000,  0.0000,  0.0000],\n",
       "          [ 0.0000,  0.0000,  0.0000],\n",
       "          [ 0.0000,  0.0000,  0.0000],\n",
       "          [ 0.0000,  0.0000,  0.0000]]], dtype=torch.float64),\n",
       " tensor(1))"
      ]
     },
     "execution_count": 182,
     "metadata": {},
     "output_type": "execute_result"
    }
   ],
   "source": [
    "training_setCombine.__getitem__(8)"
   ]
  },
  {
   "cell_type": "code",
   "execution_count": 183,
   "metadata": {},
   "outputs": [
    {
     "data": {
      "text/plain": [
       "'\\nimport torch\\nfrom torch.utils import data\\n\\n# CUDA for PyTorch\\nuse_cuda = torch.cuda.is_available()\\ndevice = torch.device(\"cuda:0\" if use_cuda else \"cpu\")\\n\\n# Parameters\\nparams = {\\'batch_size\\': 64,\\'num_workers\\': 6}\\nmax_epochs = 10\\n\\n\\n# Generators\\ntraining_setWaist = Dataset(X_trainWaist, Y_trainWaist)\\ntraining_generatorWaist = data.DataLoader(training_setWaist, **params)\\n\\nvalidation_setWaist = Dataset(X_valWaist, Y_valWaist)\\nvalidation_generatorWaist = data.DataLoader(validation_setWaist, **params)\\n'"
      ]
     },
     "execution_count": 183,
     "metadata": {},
     "output_type": "execute_result"
    }
   ],
   "source": [
    "'''\n",
    "import torch\n",
    "from torch.utils import data\n",
    "\n",
    "# CUDA for PyTorch\n",
    "use_cuda = torch.cuda.is_available()\n",
    "device = torch.device(\"cuda:0\" if use_cuda else \"cpu\")\n",
    "\n",
    "# Parameters\n",
    "params = {'batch_size': 64,'num_workers': 6}\n",
    "max_epochs = 10\n",
    "\n",
    "\n",
    "# Generators\n",
    "training_setWaist = Dataset(X_trainWaist, Y_trainWaist)\n",
    "training_generatorWaist = data.DataLoader(training_setWaist, **params)\n",
    "\n",
    "validation_setWaist = Dataset(X_valWaist, Y_valWaist)\n",
    "validation_generatorWaist = data.DataLoader(validation_setWaist, **params)\n",
    "'''"
   ]
  },
  {
   "cell_type": "code",
   "execution_count": 184,
   "metadata": {},
   "outputs": [
    {
     "data": {
      "text/plain": [
       "'\\n# CUDA for PyTorch\\nuse_cuda = torch.cuda.is_available()\\ndevice = torch.device(\"cuda:0\" if use_cuda else \"cpu\")\\n\\n# Parameters\\nparams = {\\'batch_size\\': 64,\\'num_workers\\': 6}\\nmax_epochs = 10\\n\\n\\n# Generators\\ntraining_setWrist = Dataset(X_trainWrist, Y_trainWrist)\\ntraining_generatorWrist = data.DataLoader(training_setWrist, **params)\\n\\nvalidation_setWrist = Dataset(X_valWrist, Y_valWrist)\\nvalidation_generatorWrist = data.DataLoader(validation_setWrist, **params)\\n'"
      ]
     },
     "execution_count": 184,
     "metadata": {},
     "output_type": "execute_result"
    }
   ],
   "source": [
    "'''\n",
    "# CUDA for PyTorch\n",
    "use_cuda = torch.cuda.is_available()\n",
    "device = torch.device(\"cuda:0\" if use_cuda else \"cpu\")\n",
    "\n",
    "# Parameters\n",
    "params = {'batch_size': 64,'num_workers': 6}\n",
    "max_epochs = 10\n",
    "\n",
    "\n",
    "# Generators\n",
    "training_setWrist = Dataset(X_trainWrist, Y_trainWrist)\n",
    "training_generatorWrist = data.DataLoader(training_setWrist, **params)\n",
    "\n",
    "validation_setWrist = Dataset(X_valWrist, Y_valWrist)\n",
    "validation_generatorWrist = data.DataLoader(validation_setWrist, **params)\n",
    "'''"
   ]
  },
  {
   "cell_type": "markdown",
   "metadata": {},
   "source": [
    "<h3>Building model</h3>"
   ]
  },
  {
   "cell_type": "code",
   "execution_count": 185,
   "metadata": {},
   "outputs": [],
   "source": [
    "class ConvNetWaist(nn.Module):\n",
    "    def __init__(self, num_classes=2):\n",
    "        super(ConvNetWaist, self).__init__()\n",
    "        self.layer1 = nn.Sequential(\n",
    "            nn.Conv2d(1, 128, kernel_size=(3,3), stride=1,padding=1),\n",
    "            nn.BatchNorm2d(128),\n",
    "            #nn.Dropout(p=0.5),\n",
    "            nn.ReLU()\n",
    "            )\n",
    "            \n",
    "        self.layer2 = nn.Sequential(\n",
    "            nn.Conv2d(128, 64, kernel_size=(3,3), stride=1, padding=1),\n",
    "            nn.BatchNorm2d(64),\n",
    "            nn.Dropout(p=0.7),\n",
    "            nn.ReLU(),\n",
    "            #nn.MaxPool2d(kernel_size=2, stride=2,padding=1))\n",
    "            nn.MaxPool2d(kernel_size=2, stride=2,padding=1))\n",
    "        \n",
    "        \n",
    "        self.layer3 = nn.Sequential(\n",
    "            nn.Conv2d(64, 32, kernel_size=(3,3), stride=1, padding=1),\n",
    "            nn.BatchNorm2d(32),\n",
    "            nn.Dropout(p=0.7),\n",
    "            nn.ReLU(),\n",
    "            nn.MaxPool2d(kernel_size=2, stride=2))\n",
    "        \n",
    "        #self.fc1 = nn.Linear(100*2*4,64)\n",
    "        #self.fc2 = nn.Linear(64,1)\n",
    "        #self.fc1 = nn.Linear(100*2*4,64)\n",
    "        #self.fc2 = nn.Linear(64,2)\n",
    "       \n",
    "        \n",
    "    def forward(self, x):\n",
    "        out = self.layer1(x)\n",
    "        out = self.layer2(out)\n",
    "        out = self.layer3(out)\n",
    "        #out = self.layer4(out)\n",
    "        out = out.reshape(out.size(0), -1)\n",
    "        #out = F.relu(self.fc1(out))\n",
    "        #out = F.relu(self.fc1(out))\n",
    "        #out = self.fc2(out)\n",
    "        return out"
   ]
  },
  {
   "cell_type": "code",
   "execution_count": 186,
   "metadata": {},
   "outputs": [],
   "source": [
    "class ConvNetWrist(nn.Module):\n",
    "    def __init__(self, num_classes=2):\n",
    "        super(ConvNetWrist, self).__init__()\n",
    "        self.layer1 = nn.Sequential(\n",
    "            nn.Conv2d(1, 128, kernel_size=(3,3), stride=1,padding=1),\n",
    "            nn.BatchNorm2d(128),\n",
    "            #nn.Dropout(p=0.5),\n",
    "            nn.ReLU()\n",
    "            )\n",
    "            \n",
    "        self.layer2 = nn.Sequential(\n",
    "            nn.Conv2d(128, 64, kernel_size=(3,3), stride=1, padding=1),\n",
    "            nn.BatchNorm2d(64),\n",
    "            nn.Dropout(p=0.7),\n",
    "            nn.ReLU(),\n",
    "            #nn.MaxPool2d(kernel_size=2, stride=2,padding=1))\n",
    "            nn.MaxPool2d(kernel_size=2, stride=2,padding=1))\n",
    "        \n",
    "        self.layer3 = nn.Sequential(\n",
    "            nn.Conv2d(64, 32, kernel_size=(3,3), stride=1, padding=1),\n",
    "            nn.BatchNorm2d(32),\n",
    "            nn.Dropout(p=0.7),\n",
    "            nn.ReLU(),\n",
    "            nn.MaxPool2d(kernel_size=2, stride=2))\n",
    "        \n",
    "        #self.fc1 = nn.Linear(100*2*4,64)\n",
    "        #self.fc2 = nn.Linear(64,1)\n",
    "        #self.fc1 = nn.Linear(100*2*4,64)\n",
    "        #self.fc2 = nn.Linear(64,2)\n",
    "       \n",
    "        \n",
    "    def forward(self, x):\n",
    "        out = self.layer1(x)\n",
    "        out = self.layer2(out)\n",
    "        out = self.layer3(out)\n",
    "        #out = self.layer4(out)\n",
    "        out = out.reshape(out.size(0), -1)\n",
    "        #out = F.relu(self.fc1(out))\n",
    "        #out = F.relu(self.fc1(out))\n",
    "        #out = self.fc2(out)\n",
    "        return out"
   ]
  },
  {
   "cell_type": "code",
   "execution_count": 187,
   "metadata": {},
   "outputs": [],
   "source": [
    "class Combine_Waist_Wrist(nn.Module):\n",
    "    def __init__(self, modelA, modelB):\n",
    "        super(Combine_Waist_Wrist, self).__init__()\n",
    "        self.modelA = modelA\n",
    "        self.modelB = modelB\n",
    "        \n",
    "        self.fc1 = nn.Linear(100*2*4*2,64)\n",
    "        #self.fc1 = nn.Linear(100*2*2,64)\n",
    "        \n",
    "        self.classifier = nn.Linear(64,1)   ### 2 -> 1 , make labels 1 dimensions: 0 or 1\n",
    "        #linear layers\n",
    "        #linear layers\n",
    "    def forward(self, x1, x2):\n",
    "        x1 = self.modelA(x1)\n",
    "        x2 = self.modelB(x2)\n",
    "        out = torch.cat((x1, x2), dim=1)\n",
    "        \n",
    "        out = F.relu(self.fc1(out))\n",
    "        #out = (self.fc1(out))\n",
    "        x = self.classifier(out)  # not relu\n",
    "        #x = F.tanh(out)\n",
    "        return x"
   ]
  },
  {
   "cell_type": "code",
   "execution_count": 188,
   "metadata": {},
   "outputs": [
    {
     "data": {
      "text/plain": [
       "Combine_Waist_Wrist(\n",
       "  (modelA): ConvNetWaist(\n",
       "    (layer1): Sequential(\n",
       "      (0): Conv2d(1, 128, kernel_size=(3, 3), stride=(1, 1), padding=(1, 1))\n",
       "      (1): BatchNorm2d(128, eps=1e-05, momentum=0.1, affine=True, track_running_stats=True)\n",
       "      (2): ReLU()\n",
       "    )\n",
       "    (layer2): Sequential(\n",
       "      (0): Conv2d(128, 64, kernel_size=(3, 3), stride=(1, 1), padding=(1, 1))\n",
       "      (1): BatchNorm2d(64, eps=1e-05, momentum=0.1, affine=True, track_running_stats=True)\n",
       "      (2): Dropout(p=0.7, inplace=False)\n",
       "      (3): ReLU()\n",
       "      (4): MaxPool2d(kernel_size=2, stride=2, padding=1, dilation=1, ceil_mode=False)\n",
       "    )\n",
       "    (layer3): Sequential(\n",
       "      (0): Conv2d(64, 32, kernel_size=(3, 3), stride=(1, 1), padding=(1, 1))\n",
       "      (1): BatchNorm2d(32, eps=1e-05, momentum=0.1, affine=True, track_running_stats=True)\n",
       "      (2): Dropout(p=0.7, inplace=False)\n",
       "      (3): ReLU()\n",
       "      (4): MaxPool2d(kernel_size=2, stride=2, padding=0, dilation=1, ceil_mode=False)\n",
       "    )\n",
       "  )\n",
       "  (modelB): ConvNetWrist(\n",
       "    (layer1): Sequential(\n",
       "      (0): Conv2d(1, 128, kernel_size=(3, 3), stride=(1, 1), padding=(1, 1))\n",
       "      (1): BatchNorm2d(128, eps=1e-05, momentum=0.1, affine=True, track_running_stats=True)\n",
       "      (2): ReLU()\n",
       "    )\n",
       "    (layer2): Sequential(\n",
       "      (0): Conv2d(128, 64, kernel_size=(3, 3), stride=(1, 1), padding=(1, 1))\n",
       "      (1): BatchNorm2d(64, eps=1e-05, momentum=0.1, affine=True, track_running_stats=True)\n",
       "      (2): Dropout(p=0.7, inplace=False)\n",
       "      (3): ReLU()\n",
       "      (4): MaxPool2d(kernel_size=2, stride=2, padding=1, dilation=1, ceil_mode=False)\n",
       "    )\n",
       "    (layer3): Sequential(\n",
       "      (0): Conv2d(64, 32, kernel_size=(3, 3), stride=(1, 1), padding=(1, 1))\n",
       "      (1): BatchNorm2d(32, eps=1e-05, momentum=0.1, affine=True, track_running_stats=True)\n",
       "      (2): Dropout(p=0.7, inplace=False)\n",
       "      (3): ReLU()\n",
       "      (4): MaxPool2d(kernel_size=2, stride=2, padding=0, dilation=1, ceil_mode=False)\n",
       "    )\n",
       "  )\n",
       "  (fc1): Linear(in_features=1600, out_features=64, bias=True)\n",
       "  (classifier): Linear(in_features=64, out_features=1, bias=True)\n",
       ")"
      ]
     },
     "execution_count": 188,
     "metadata": {},
     "output_type": "execute_result"
    }
   ],
   "source": [
    "from torch.optim.lr_scheduler import StepLR\n",
    "modelWaist = ConvNetWaist()\n",
    "modelWrist = ConvNetWrist()\n",
    "modelCombine = Combine_Waist_Wrist(modelWaist,modelWrist)\n",
    "#model=model.Dropout(p=0.2)\n",
    "criterion = nn.MSELoss()\n",
    "#optimizerWaist = SGD(modelWaist.parameters(), lr=0.00001)\n",
    "#optimizerWrist = SGD(modelWrist.parameters(), lr=0.00001)\n",
    "#optimizerCombine = optimizerWaist +optimizerWrist\n",
    "\n",
    "params = list(modelWaist.parameters()) + list(modelWrist.parameters())\n",
    "optimizerCombine = SGD(params, lr=0.00001,weight_decay = 0.005)\n",
    "#scheduler = StepLR(optimizerCombine, step_size=1, gamma=0.9)\n",
    "#weight_decay=1e-5\n",
    "\n",
    "#optimizerCombine = SGD(modelCombine.parameters(), lr=0.001)\n",
    "#optimizer = SGD(model.parameters(), lr=0.01)\n",
    "#learning_rate = 0.01\n",
    "\n",
    "\n",
    "if torch.cuda.is_available():\n",
    "    #model = nn.DataParallel(model)\n",
    "    modelWaist = modelWaist.cuda()\n",
    "    modelWrist = modelWrist.cuda()\n",
    "    modelCombine = modelCombine.cuda()\n",
    "    criterion = criterion.cuda()\n",
    "\n",
    "modelWaist.to(device)\n",
    "modelWrist.to(device)\n",
    "modelCombine.to(device)\n"
   ]
  },
  {
   "cell_type": "code",
   "execution_count": 189,
   "metadata": {},
   "outputs": [
    {
     "name": "stdout",
     "output_type": "stream",
     "text": [
      "----------------------------------------------------------------\n",
      "        Layer (type)               Output Shape         Param #\n",
      "================================================================\n",
      "            Conv2d-1          [-1, 128, 100, 3]           1,280\n",
      "       BatchNorm2d-2          [-1, 128, 100, 3]             256\n",
      "              ReLU-3          [-1, 128, 100, 3]               0\n",
      "            Conv2d-4           [-1, 64, 100, 3]          73,792\n",
      "       BatchNorm2d-5           [-1, 64, 100, 3]             128\n",
      "           Dropout-6           [-1, 64, 100, 3]               0\n",
      "              ReLU-7           [-1, 64, 100, 3]               0\n",
      "         MaxPool2d-8            [-1, 64, 51, 2]               0\n",
      "            Conv2d-9            [-1, 32, 51, 2]          18,464\n",
      "      BatchNorm2d-10            [-1, 32, 51, 2]              64\n",
      "          Dropout-11            [-1, 32, 51, 2]               0\n",
      "             ReLU-12            [-1, 32, 51, 2]               0\n",
      "        MaxPool2d-13            [-1, 32, 25, 1]               0\n",
      "================================================================\n",
      "Total params: 93,984\n",
      "Trainable params: 93,984\n",
      "Non-trainable params: 0\n",
      "----------------------------------------------------------------\n",
      "Input size (MB): 0.00\n",
      "Forward/backward pass size (MB): 1.62\n",
      "Params size (MB): 0.36\n",
      "Estimated Total Size (MB): 1.98\n",
      "----------------------------------------------------------------\n"
     ]
    }
   ],
   "source": [
    "summary(modelWaist, (1,100, 3))"
   ]
  },
  {
   "cell_type": "code",
   "execution_count": 190,
   "metadata": {},
   "outputs": [],
   "source": [
    "#summary(modelWrist, (1,100, 3))"
   ]
  },
  {
   "cell_type": "code",
   "execution_count": 191,
   "metadata": {},
   "outputs": [],
   "source": [
    "#summary(modelCombine, [(1,100, 3),(1,100, 3)])"
   ]
  },
  {
   "cell_type": "code",
   "execution_count": 192,
   "metadata": {},
   "outputs": [],
   "source": [
    "##### how it will look like with new dataloader\n",
    "\n",
    "n_epochs = 50\n",
    "# empty list to store training losses\n",
    "#train_losses_waist = []\n",
    "#train_losses_wrist = []\n",
    "train_losses_combine = []\n",
    "train_losses_combine_avg = []\n",
    "\n",
    "# empty list to store validation losses\n",
    "#val_losses_waist = []\n",
    "#val_losses_wrist = []\n",
    "val_losses_combine = []\n",
    "val_losses_combine_avg = []\n",
    "\n",
    "def train():\n",
    "    modelCombine.train()\n",
    "    tr_loss = 0\n",
    "    \n",
    "    #n_epochs = 10\n",
    "    best_loss=99999999999999\n",
    "    for epoch in range(n_epochs):\n",
    "        tr_loss = 0\n",
    "        val_loss = 0\n",
    "        temp1=[]\n",
    "        temp2=[]\n",
    "        #scheduler.step()\n",
    "        for local_batch_waist, local_batch_wrist,local_labels in training_generatorCombine:\n",
    "            local_batch_waist, local_batch_wrist, local_labels = local_batch_waist.to(device), local_batch_wrist.to(device), local_labels.to(device)\n",
    "            #local_batch_waist, local_labels = local_batch_waist.to(device), local_labels.to(device)\n",
    "            \n",
    "            \n",
    "            optimizerCombine.zero_grad()\n",
    "            #optimizerWrist.zero_grad()\n",
    "            output_train = modelCombine(local_batch_waist.float(), local_batch_wrist.float())\n",
    "            #output_train = modelCombine(local_batch_waist.float())\n",
    "            loss_train = criterion(output_train, local_labels.unsqueeze(1).float())\n",
    "            \n",
    "            #print(local_labels)\n",
    "            #print(output_train)\n",
    "            \n",
    "            \n",
    "            \n",
    "            #print(loss_train)\n",
    "\n",
    "            train_losses_combine.append(loss_train)\n",
    "            temp1.append(loss_train.item())\n",
    "            \n",
    "            loss_train.backward()\n",
    "            optimizerCombine.step()\n",
    "            tr_loss = loss_train.item()\n",
    "            #tr_loss = tr_loss + loss_train.item()\n",
    "        avg_loss = np.mean(temp1)\n",
    "        train_losses_combine_avg.append(avg_loss)\n",
    "        #print(tr_loss)\n",
    "        print('Epoch : ',epoch+1, '\\t', 'loss :', avg_loss)\n",
    "        #print('Epoch : ',epoch+1, '\\t', 'loss :', tr_loss)\n",
    "        \n",
    "        \n",
    "        with torch.set_grad_enabled(False):\n",
    "            for local_batch_waist, local_batch_wrist, local_labels in validation_generatorCombine:\n",
    "                #local_batch_waist, local_labels = local_batch_waist.to(device), local_labels.to(device)\n",
    "                local_batch_waist, local_batch_wrist, local_labels = local_batch_waist.to(device), local_batch_wrist.to(device), local_labels.to(device)\n",
    "                \n",
    "                output_val = modelCombine(local_batch_waist.float(),local_batch_wrist.float())\n",
    "                loss_val = criterion(output_val, local_labels.unsqueeze(1).float())\n",
    "                val_losses_combine.append(loss_val)\n",
    "                temp2.append(loss_val.item())\n",
    "                #val_loss = val_loss + loss_val\n",
    "            avg_loss = np.mean(temp2)\n",
    "            if (avg_loss<=best_loss):\n",
    "                torch.save(modelCombine.state_dict(), \"Sixth_Combine_best_epoch50.pt\")\n",
    "                best_loss=avg_loss\n",
    "                print(\"best:  \",best_loss)\n",
    "                # safe the best mode -> lowest validation loss\n",
    "            val_losses_combine_avg.append(avg_loss)\n",
    "            print('Epoch : ',epoch+1, '\\t', 'loss :', avg_loss)\n",
    "            \n",
    "            \n",
    "    \n",
    "\n",
    "        \n",
    "       "
   ]
  },
  {
   "cell_type": "code",
   "execution_count": 193,
   "metadata": {},
   "outputs": [
    {
     "name": "stdout",
     "output_type": "stream",
     "text": [
      "Epoch :  1 \t loss : 0.39549188233120064\n",
      "best:   0.29824045126373017\n",
      "Epoch :  1 \t loss : 0.29824045126373017\n",
      "Epoch :  2 \t loss : 0.2540112011086139\n",
      "best:   0.21429580121056624\n",
      "Epoch :  2 \t loss : 0.21429580121056624\n",
      "Epoch :  3 \t loss : 0.19703264511200455\n",
      "best:   0.17889936571327436\n",
      "Epoch :  3 \t loss : 0.17889936571327436\n",
      "Epoch :  4 \t loss : 0.1714165331226109\n",
      "best:   0.16460744265540417\n",
      "Epoch :  4 \t loss : 0.16460744265540417\n",
      "Epoch :  5 \t loss : 0.15852321906746597\n",
      "best:   0.1533018256649262\n",
      "Epoch :  5 \t loss : 0.1533018256649262\n",
      "Epoch :  6 \t loss : 0.14937376787566828\n",
      "best:   0.14552757215201403\n",
      "Epoch :  6 \t loss : 0.14552757215201403\n",
      "Epoch :  7 \t loss : 0.14186500973207572\n",
      "best:   0.14085205825263344\n",
      "Epoch :  7 \t loss : 0.14085205825263344\n",
      "Epoch :  8 \t loss : 0.1391534623865709\n",
      "best:   0.1364832344113062\n",
      "Epoch :  8 \t loss : 0.1364832344113062\n",
      "Epoch :  9 \t loss : 0.1359784685091445\n",
      "best:   0.13383396039964215\n",
      "Epoch :  9 \t loss : 0.13383396039964215\n",
      "Epoch :  10 \t loss : 0.13292543125256023\n",
      "best:   0.13128171473379743\n",
      "Epoch :  10 \t loss : 0.13128171473379743\n",
      "Epoch :  11 \t loss : 0.1301881803656219\n",
      "best:   0.12885667422110827\n",
      "Epoch :  11 \t loss : 0.12885667422110827\n",
      "Epoch :  12 \t loss : 0.12652503592073272\n",
      "best:   0.12657728326564854\n",
      "Epoch :  12 \t loss : 0.12657728326564854\n",
      "Epoch :  13 \t loss : 0.12633298393379322\n",
      "best:   0.12398621110932419\n",
      "Epoch :  13 \t loss : 0.12398621110932419\n",
      "Epoch :  14 \t loss : 0.12400095490597333\n",
      "best:   0.12183212623429769\n",
      "Epoch :  14 \t loss : 0.12183212623429769\n",
      "Epoch :  15 \t loss : 0.12272034376988959\n",
      "Epoch :  15 \t loss : 0.12381637624955322\n",
      "Epoch :  16 \t loss : 0.12092084808683189\n",
      "best:   0.11989753160834855\n",
      "Epoch :  16 \t loss : 0.11989753160834855\n",
      "Epoch :  17 \t loss : 0.11994432229508288\n",
      "best:   0.11953432976702096\n",
      "Epoch :  17 \t loss : 0.11953432976702096\n",
      "Epoch :  18 \t loss : 0.12032150469736526\n",
      "best:   0.11909329294253915\n",
      "Epoch :  18 \t loss : 0.11909329294253915\n",
      "Epoch :  19 \t loss : 0.11884874944896347\n",
      "best:   0.117361695495786\n",
      "Epoch :  19 \t loss : 0.117361695495786\n",
      "Epoch :  20 \t loss : 0.11739557871752603\n",
      "best:   0.1164104368690294\n",
      "Epoch :  20 \t loss : 0.1164104368690294\n",
      "Epoch :  21 \t loss : 0.11649361438645199\n",
      "best:   0.11534673788433553\n",
      "Epoch :  21 \t loss : 0.11534673788433553\n",
      "Epoch :  22 \t loss : 0.11567070189855362\n",
      "Epoch :  22 \t loss : 0.11631017947662763\n",
      "Epoch :  23 \t loss : 0.11536262256463024\n",
      "best:   0.1132175998708547\n",
      "Epoch :  23 \t loss : 0.1132175998708547\n",
      "Epoch :  24 \t loss : 0.11412095590908719\n",
      "Epoch :  24 \t loss : 0.11393254662952944\n",
      "Epoch :  25 \t loss : 0.1138085649354856\n",
      "best:   0.11278256041327087\n",
      "Epoch :  25 \t loss : 0.11278256041327087\n",
      "Epoch :  26 \t loss : 0.11286027327891027\n",
      "Epoch :  26 \t loss : 0.11398758224815085\n",
      "Epoch :  27 \t loss : 0.11273396670042564\n",
      "best:   0.1119913338303385\n",
      "Epoch :  27 \t loss : 0.1119913338303385\n",
      "Epoch :  28 \t loss : 0.11213170329266411\n",
      "best:   0.11098007236540951\n",
      "Epoch :  28 \t loss : 0.11098007236540951\n",
      "Epoch :  29 \t loss : 0.11070175498497718\n",
      "best:   0.10966682477044408\n",
      "Epoch :  29 \t loss : 0.10966682477044408\n",
      "Epoch :  30 \t loss : 0.11127508784484708\n",
      "best:   0.10901003892283338\n",
      "Epoch :  30 \t loss : 0.10901003892283338\n",
      "Epoch :  31 \t loss : 0.10975972460077797\n",
      "Epoch :  31 \t loss : 0.11003747970792882\n",
      "Epoch :  32 \t loss : 0.1098629288795584\n",
      "Epoch :  32 \t loss : 0.11044702690790022\n",
      "Epoch :  33 \t loss : 0.10883894554478744\n",
      "best:   0.10843877902477754\n",
      "Epoch :  33 \t loss : 0.10843877902477754\n",
      "Epoch :  34 \t loss : 0.10911473167369268\n",
      "best:   0.10747471712925365\n",
      "Epoch :  34 \t loss : 0.10747471712925365\n",
      "Epoch :  35 \t loss : 0.1081986801807896\n",
      "Epoch :  35 \t loss : 0.10892317641939125\n",
      "Epoch :  36 \t loss : 0.10721655628136854\n",
      "best:   0.10655643546753117\n",
      "Epoch :  36 \t loss : 0.10655643546753117\n",
      "Epoch :  37 \t loss : 0.10692978166286185\n",
      "best:   0.10617097979906115\n",
      "Epoch :  37 \t loss : 0.10617097979906115\n",
      "Epoch :  38 \t loss : 0.10630441942856265\n",
      "best:   0.1059134117354482\n",
      "Epoch :  38 \t loss : 0.1059134117354482\n",
      "Epoch :  39 \t loss : 0.10573760798916124\n",
      "best:   0.1052139903473836\n",
      "Epoch :  39 \t loss : 0.1052139903473836\n",
      "Epoch :  40 \t loss : 0.10522904284217612\n",
      "Epoch :  40 \t loss : 0.10579621974994995\n",
      "Epoch :  41 \t loss : 0.10416720436477868\n",
      "best:   0.10382564733870474\n",
      "Epoch :  41 \t loss : 0.10382564733870474\n",
      "Epoch :  42 \t loss : 0.1037727293669531\n",
      "Epoch :  42 \t loss : 0.10445352744350665\n",
      "Epoch :  43 \t loss : 0.10339983944455869\n",
      "best:   0.10333654793242221\n",
      "Epoch :  43 \t loss : 0.10333654793242221\n",
      "Epoch :  44 \t loss : 0.10338113388600163\n",
      "best:   0.10294530744210723\n",
      "Epoch :  44 \t loss : 0.10294530744210723\n",
      "Epoch :  45 \t loss : 0.10260273708664931\n",
      "best:   0.10203133447149455\n",
      "Epoch :  45 \t loss : 0.10203133447149455\n",
      "Epoch :  46 \t loss : 0.10196600803002359\n",
      "Epoch :  46 \t loss : 0.1022198666028441\n",
      "Epoch :  47 \t loss : 0.10191431990349888\n",
      "best:   0.10114145550271991\n",
      "Epoch :  47 \t loss : 0.10114145550271991\n",
      "Epoch :  48 \t loss : 0.10162133484303046\n",
      "best:   0.10086706574096123\n",
      "Epoch :  48 \t loss : 0.10086706574096123\n",
      "Epoch :  49 \t loss : 0.10163271432487929\n",
      "Epoch :  49 \t loss : 0.1012810917517484\n",
      "Epoch :  50 \t loss : 0.10070561631673587\n",
      "best:   0.0998981389046077\n",
      "Epoch :  50 \t loss : 0.0998981389046077\n"
     ]
    }
   ],
   "source": [
    "train()"
   ]
  },
  {
   "cell_type": "code",
   "execution_count": 79,
   "metadata": {},
   "outputs": [
    {
     "data": {
      "text/plain": [
       "'\\n###### we tried this code\\n\\nn_epochs = 10\\n# empty list to store training losses\\n#train_losses_waist = []\\n#train_losses_wrist = []\\ntrain_losses_combine = []\\n\\n# empty list to store validation losses\\n#val_losses_waist = []\\n#val_losses_wrist = []\\nval_losses_combine = []\\n\\nmodelCombine.train()\\ntr_loss = 0\\noptimizerCombine.zero_grad()\\n\\nfor local_batch1, local_labels1 in training_generatorWaist:\\n    local_batch1, local_labels1 = local_batch1.to(device), local_labels1.to(device)\\n    \\n    for local_batch2, local_labels2 in training_generatorWrist:\\n        local_batch2, local_labels2 = local_batch2.to(device), local_labels2.to(device)\\n            \\n        output_train = modelCombine(local_batch1.float(), local_batch2.float())\\n        loss_train = criterion(output_train, local_labels1)\\n        \\n        train_losses_combine.append(loss_train)\\n\\n        loss_train.backward()\\n        optimizerCombine.step()\\n        tr_loss = loss_train.item()  \\n        \\n        \\n        break\\n        \\n    break\\n        \\n    '"
      ]
     },
     "execution_count": 79,
     "metadata": {},
     "output_type": "execute_result"
    }
   ],
   "source": [
    "'''\n",
    "###### we tried this code\n",
    "\n",
    "n_epochs = 10\n",
    "# empty list to store training losses\n",
    "#train_losses_waist = []\n",
    "#train_losses_wrist = []\n",
    "train_losses_combine = []\n",
    "\n",
    "# empty list to store validation losses\n",
    "#val_losses_waist = []\n",
    "#val_losses_wrist = []\n",
    "val_losses_combine = []\n",
    "\n",
    "modelCombine.train()\n",
    "tr_loss = 0\n",
    "optimizerCombine.zero_grad()\n",
    "\n",
    "for local_batch1, local_labels1 in training_generatorWaist:\n",
    "    local_batch1, local_labels1 = local_batch1.to(device), local_labels1.to(device)\n",
    "    \n",
    "    for local_batch2, local_labels2 in training_generatorWrist:\n",
    "        local_batch2, local_labels2 = local_batch2.to(device), local_labels2.to(device)\n",
    "            \n",
    "        output_train = modelCombine(local_batch1.float(), local_batch2.float())\n",
    "        loss_train = criterion(output_train, local_labels1)\n",
    "        \n",
    "        train_losses_combine.append(loss_train)\n",
    "\n",
    "        loss_train.backward()\n",
    "        optimizerCombine.step()\n",
    "        tr_loss = loss_train.item()  \n",
    "        \n",
    "        \n",
    "        break\n",
    "        \n",
    "    break\n",
    "        \n",
    "    '''"
   ]
  },
  {
   "cell_type": "code",
   "execution_count": 80,
   "metadata": {},
   "outputs": [
    {
     "data": {
      "text/plain": [
       "'\\nn_epochs = 10\\n# empty list to store training losses\\n#train_losses_waist = []\\n#train_losses_wrist = []\\ntrain_losses_combine = []\\n\\n# empty list to store validation losses\\n#val_losses_waist = []\\n#val_losses_wrist = []\\nval_losses_combine = []\\n\\n\\n\\n\\n\\n\\ndef train():\\n    #model.train()\\n    #modelWaist.train()\\n    #modelWrist.train()\\n    modelCombine.train()\\n    tr_loss = 0\\n    #optimizerWrist.zero_grad()\\n    #optimizerWaist.zero_grad()\\n    optimizerCombine.zero_grad()\\n    #x_train, y_train = Variable(X_train), Variable(Y_train)\\n    #x_val, y_val = Variable(X_val), Variable(Y_val)\\n    for epoch in range(n_epochs):\\n        for local_batch, local_labels in training_generatorWaist:\\n            local_batch, local_labels = local_batch.to(device), local_labels.to(device)\\n            \\n            output_train = modelWaist(local_batch.float())\\n            loss_train = criterion(output_train, local_labels)\\n            train_losses_waist.append(loss_train)\\n\\n            loss_train.backward()\\n            optimizerWaist.step()\\n            tr_loss = loss_train.item()\\n\\n        print(tr_loss)\\n        print(\\'Epoch : \\',epoch+1, \\'\\t\\', \\'loss :\\', loss_train)\\n        \\n        \\n        for local_batch, local_labels in training_generatorWrist:\\n            local_batch, local_labels = local_batch.to(device), local_labels.to(device)\\n            \\n            output_train2 = modelWrist(local_batch.float())\\n            loss_train2 = criterion(output_train2, local_labels)\\n            train_losses_wrist.append(loss_train2)\\n\\n            loss_train2.backward()\\n            optimizerWrist.step()\\n            tr_loss = loss_train2.item()\\n\\n        print(tr_loss)\\n        print(\\'Epoch : \\',epoch+1, \\'\\t\\', \\'loss :\\', loss_train2)\\n        \\n        \\n        \\n        \\n        with torch.set_grad_enabled(False):\\n            for local_batch, local_labels in validation_generatorWaist:\\n            # Transfer to GPU\\n                local_batch, local_labels = local_batch.to(device), local_labels.to(device)\\n                \\n                output_val = modelWaist(local_batch.float())\\n                loss_val = criterion(output_val, local_labels)\\n                val_losses_waist.append(loss_val)\\n            print(\\'Epoch : \\',epoch+1, \\'\\t\\', \\'loss :\\', loss_val)\\n            \\n            for local_batch, local_labels in validation_generatorWrist:\\n            # Transfer to GPU\\n                local_batch, local_labels = local_batch.to(device), local_labels.to(device)\\n                \\n                output_val2 = modelWrist(local_batch.float())\\n                loss_val2 = criterion(output_val2, local_labels)\\n                val_losses_wrist.append(loss_val2)\\n            print(\\'Epoch : \\',epoch+1, \\'\\t\\', \\'loss :\\', loss_val2)\\n            \\n            \\n            \\n            \\n        #if(epoch==20):\\n        #    torch.save(model, \"10stepdatamodel_epoch20_3layers_2.pt\") \\n  '"
      ]
     },
     "execution_count": 80,
     "metadata": {},
     "output_type": "execute_result"
    }
   ],
   "source": [
    "'''\n",
    "n_epochs = 10\n",
    "# empty list to store training losses\n",
    "#train_losses_waist = []\n",
    "#train_losses_wrist = []\n",
    "train_losses_combine = []\n",
    "\n",
    "# empty list to store validation losses\n",
    "#val_losses_waist = []\n",
    "#val_losses_wrist = []\n",
    "val_losses_combine = []\n",
    "\n",
    "\n",
    "\n",
    "\n",
    "\n",
    "\n",
    "def train():\n",
    "    #model.train()\n",
    "    #modelWaist.train()\n",
    "    #modelWrist.train()\n",
    "    modelCombine.train()\n",
    "    tr_loss = 0\n",
    "    #optimizerWrist.zero_grad()\n",
    "    #optimizerWaist.zero_grad()\n",
    "    optimizerCombine.zero_grad()\n",
    "    #x_train, y_train = Variable(X_train), Variable(Y_train)\n",
    "    #x_val, y_val = Variable(X_val), Variable(Y_val)\n",
    "    for epoch in range(n_epochs):\n",
    "        for local_batch, local_labels in training_generatorWaist:\n",
    "            local_batch, local_labels = local_batch.to(device), local_labels.to(device)\n",
    "            \n",
    "            output_train = modelWaist(local_batch.float())\n",
    "            loss_train = criterion(output_train, local_labels)\n",
    "            train_losses_waist.append(loss_train)\n",
    "\n",
    "            loss_train.backward()\n",
    "            optimizerWaist.step()\n",
    "            tr_loss = loss_train.item()\n",
    "\n",
    "        print(tr_loss)\n",
    "        print('Epoch : ',epoch+1, '\\t', 'loss :', loss_train)\n",
    "        \n",
    "        \n",
    "        for local_batch, local_labels in training_generatorWrist:\n",
    "            local_batch, local_labels = local_batch.to(device), local_labels.to(device)\n",
    "            \n",
    "            output_train2 = modelWrist(local_batch.float())\n",
    "            loss_train2 = criterion(output_train2, local_labels)\n",
    "            train_losses_wrist.append(loss_train2)\n",
    "\n",
    "            loss_train2.backward()\n",
    "            optimizerWrist.step()\n",
    "            tr_loss = loss_train2.item()\n",
    "\n",
    "        print(tr_loss)\n",
    "        print('Epoch : ',epoch+1, '\\t', 'loss :', loss_train2)\n",
    "        \n",
    "        \n",
    "        \n",
    "        \n",
    "        with torch.set_grad_enabled(False):\n",
    "            for local_batch, local_labels in validation_generatorWaist:\n",
    "            # Transfer to GPU\n",
    "                local_batch, local_labels = local_batch.to(device), local_labels.to(device)\n",
    "                \n",
    "                output_val = modelWaist(local_batch.float())\n",
    "                loss_val = criterion(output_val, local_labels)\n",
    "                val_losses_waist.append(loss_val)\n",
    "            print('Epoch : ',epoch+1, '\\t', 'loss :', loss_val)\n",
    "            \n",
    "            for local_batch, local_labels in validation_generatorWrist:\n",
    "            # Transfer to GPU\n",
    "                local_batch, local_labels = local_batch.to(device), local_labels.to(device)\n",
    "                \n",
    "                output_val2 = modelWrist(local_batch.float())\n",
    "                loss_val2 = criterion(output_val2, local_labels)\n",
    "                val_losses_wrist.append(loss_val2)\n",
    "            print('Epoch : ',epoch+1, '\\t', 'loss :', loss_val2)\n",
    "            \n",
    "            \n",
    "            \n",
    "            \n",
    "        #if(epoch==20):\n",
    "        #    torch.save(model, \"10stepdatamodel_epoch20_3layers_2.pt\") \n",
    "  '''  "
   ]
  },
  {
   "cell_type": "code",
   "execution_count": 194,
   "metadata": {},
   "outputs": [],
   "source": [
    "torch.save(modelWaist.state_dict(), \"sixth_Combine_last_epoch50.pt\")"
   ]
  },
  {
   "cell_type": "markdown",
   "metadata": {},
   "source": [
    "<h3>Saving the model</h3>"
   ]
  },
  {
   "cell_type": "code",
   "execution_count": 89,
   "metadata": {},
   "outputs": [],
   "source": [
    "#torch.save(modelWaist, \"1Waist_stepdatamodel_epoch10_.pt\")\n",
    "#torch.save(modelWrist, \"1Wrist_stepdatamodel_epoch10_.pt\")"
   ]
  },
  {
   "cell_type": "code",
   "execution_count": 197,
   "metadata": {},
   "outputs": [],
   "source": [
    "#modelCombine.load_state_dict(torch.load(\"Third_Combine_best_epoch25.pt\"))\n",
    "#modelWrist.eval()"
   ]
  },
  {
   "cell_type": "code",
   "execution_count": 91,
   "metadata": {},
   "outputs": [],
   "source": [
    "#modelWaist = torch.load(\"1Waist_stepdatamodel_epoch10_.pt\")\n",
    "#modelWaist.eval()"
   ]
  },
  {
   "cell_type": "markdown",
   "metadata": {},
   "source": [
    "<h3>Visualization of train and validation loss</h3>"
   ]
  },
  {
   "cell_type": "code",
   "execution_count": 82,
   "metadata": {},
   "outputs": [],
   "source": [
    "loss1 = open(\"splitdata/train_losses5_1.pkl\", 'wb')\n",
    "pickle.dump(train_losses_combine, loss1)\n",
    "loss1.close()\n",
    "loss2 = open(\"splitdata/val_losses5_1.pkl\", 'wb')\n",
    "pickle.dump(val_losses_combine, loss2)\n",
    "loss2.close()"
   ]
  },
  {
   "cell_type": "code",
   "execution_count": 195,
   "metadata": {},
   "outputs": [
    {
     "data": {
      "image/png": "[encoded data removed]",
      "text/plain": [
       "<Figure size 432x288 with 1 Axes>"
      ]
     },
     "metadata": {
      "needs_background": "light"
     },
     "output_type": "display_data"
    }
   ],
   "source": [
    "import matplotlib.pyplot as plt\n",
    "plt.plot(train_losses_combine_avg, label='Training loss')\n",
    "plt.plot(val_losses_combine_avg, label='Validation loss')\n",
    "plt.legend()\n",
    "plt.show()\n",
    "#plt.savefig('CombineS_waist.png')\n",
    "#plt.savefig('Combine4.png')"
   ]
  },
  {
   "cell_type": "code",
   "execution_count": 196,
   "metadata": {},
   "outputs": [
    {
     "data": {
      "image/png": "[encoded data removed]",
      "text/plain": [
       "<Figure size 432x288 with 1 Axes>"
      ]
     },
     "metadata": {
      "needs_background": "light"
     },
     "output_type": "display_data"
    }
   ],
   "source": [
    "import matplotlib.pyplot as plt\n",
    "plt.plot(train_losses_combine, label='Training loss')\n",
    "plt.plot(val_losses_combine, label='Validation loss')\n",
    "plt.legend()\n",
    "plt.show()\n",
    "#plt.savefig('Combines_waist.png')"
   ]
  },
  {
   "cell_type": "markdown",
   "metadata": {},
   "source": [
    "<h3>Generating training accuracy</h3>"
   ]
  },
  {
   "cell_type": "code",
   "execution_count": 85,
   "metadata": {},
   "outputs": [],
   "source": [
    "\n",
    "#modelCombine = torch.load(\"1Combine_step_model_dropout0.8_weightdecay_scheduler_epoch10_last.pt\")\n",
    "#modelCombine.eval()"
   ]
  },
  {
   "cell_type": "code",
   "execution_count": 178,
   "metadata": {},
   "outputs": [
    {
     "data": {
      "text/plain": [
       "'\\ntemp =[]\\nfor x in output:\\n    softmax = torch.exp(x).cpu()\\n    prob = list(softmax.numpy())\\n    temp.extend(prob)\\npredictions1 = np.argmax(temp, axis=1)\\n'"
      ]
     },
     "execution_count": 178,
     "metadata": {},
     "output_type": "execute_result"
    }
   ],
   "source": [
    "# prediction for training set\n",
    "output =[]\n",
    "with torch.no_grad():\n",
    "    for local_batch_waist, local_batch_wrist, local_labels in training_generatorCombine:\n",
    "            #local_batch_waist, local_batch_wrist, local_labels = local_batch_waist.to(device), local_batch_wrist.to(device), local_labels.to(device)\n",
    "        output.append(modelCombine(local_batch_waist.float().cuda(), local_batch_wrist.float().cuda()))\n",
    "        \n",
    "#print(output[0])\n",
    "        \n",
    "\"\"\"\n",
    "temp =[]\n",
    "for x in output:\n",
    "    softmax = torch.exp(x).cpu()\n",
    "    prob = list(softmax.numpy())\n",
    "    temp.extend(prob)\n",
    "predictions1 = np.argmax(temp, axis=1)\n",
    "\"\"\""
   ]
  },
  {
   "cell_type": "code",
   "execution_count": 179,
   "metadata": {},
   "outputs": [],
   "source": [
    "#print(output[200])"
   ]
  },
  {
   "cell_type": "code",
   "execution_count": 180,
   "metadata": {},
   "outputs": [],
   "source": [
    "#predictions1.tolist()"
   ]
  },
  {
   "cell_type": "code",
   "execution_count": 181,
   "metadata": {},
   "outputs": [],
   "source": [
    "#Y_train"
   ]
  },
  {
   "cell_type": "code",
   "execution_count": 85,
   "metadata": {},
   "outputs": [
    {
     "data": {
      "text/plain": [
       "0.5026484139749187"
      ]
     },
     "execution_count": 85,
     "metadata": {},
     "output_type": "execute_result"
    }
   ],
   "source": [
    "from sklearn.metrics import accuracy_score\n",
    "accuracy_score(Y_trainWrist, predictions1)"
   ]
  },
  {
   "cell_type": "code",
   "execution_count": 86,
   "metadata": {},
   "outputs": [
    {
     "data": {
      "text/plain": [
       "tensor([1, 0, 1,  ..., 1, 0, 0])"
      ]
     },
     "execution_count": 86,
     "metadata": {},
     "output_type": "execute_result"
    }
   ],
   "source": [
    "Y_trainWrist"
   ]
  },
  {
   "cell_type": "markdown",
   "metadata": {},
   "source": [
    "<h3>Test set accuracy</h3>"
   ]
  },
  {
   "cell_type": "code",
   "execution_count": 86,
   "metadata": {},
   "outputs": [],
   "source": [
    "wrist_count = pickle.load( open('wrist_count.pkl',\"rb\"))\n",
    "waist_count = pickle.load( open('waist_count.pkl',\"rb\"))"
   ]
  },
  {
   "cell_type": "code",
   "execution_count": 87,
   "metadata": {},
   "outputs": [],
   "source": [
    "wrist_count = np.array(wrist_count)\n",
    "waist_count = np.array(waist_count)\n"
   ]
  },
  {
   "cell_type": "code",
   "execution_count": 332,
   "metadata": {},
   "outputs": [
    {
     "data": {
      "text/plain": [
       "(240, 100, 3)"
      ]
     },
     "execution_count": 332,
     "metadata": {},
     "output_type": "execute_result"
    }
   ],
   "source": [
    "np.array(wrist_count[0]).shape"
   ]
  },
  {
   "cell_type": "code",
   "execution_count": 333,
   "metadata": {},
   "outputs": [],
   "source": [
    "#np.array(wrist_count[0]).reshape(240,1,100,3)\n",
    "#np.array(waist_count[0]).reshape(240,1,100,3)"
   ]
  },
  {
   "cell_type": "code",
   "execution_count": 334,
   "metadata": {},
   "outputs": [],
   "source": [
    "#X_trainWaist = waist_train_x.reshape(144709,1,100,3)\n"
   ]
  },
  {
   "cell_type": "code",
   "execution_count": 88,
   "metadata": {},
   "outputs": [],
   "source": [
    "Ycount_test = np.full((240,100,1),1)\n",
    "Ycount_test = Ycount_test.reshape(240,100)\n",
    "Ycount_test = np.array([max(z) for z in Ycount_test])"
   ]
  },
  {
   "cell_type": "code",
   "execution_count": 89,
   "metadata": {},
   "outputs": [],
   "source": [
    "#Ycount_test"
   ]
  },
  {
   "cell_type": "code",
   "execution_count": 90,
   "metadata": {},
   "outputs": [],
   "source": [
    "X_countWaist = torch.from_numpy(np.array(wrist_count[15]).reshape(240,1,100,3))\n",
    "X_countWrist = torch.from_numpy(np.array(waist_count[15]).reshape(240,1,100,3))\n",
    "Ycount_test = torch.from_numpy(np.array(Ycount_test))"
   ]
  },
  {
   "cell_type": "code",
   "execution_count": 405,
   "metadata": {},
   "outputs": [
    {
     "data": {
      "text/plain": [
       "torch.Size([240, 1, 100, 3])"
      ]
     },
     "execution_count": 405,
     "metadata": {},
     "output_type": "execute_result"
    }
   ],
   "source": [
    "X_countWrist.shape"
   ]
  },
  {
   "cell_type": "code",
   "execution_count": 406,
   "metadata": {},
   "outputs": [
    {
     "data": {
      "text/plain": [
       "torch.Size([240])"
      ]
     },
     "execution_count": 406,
     "metadata": {},
     "output_type": "execute_result"
    }
   ],
   "source": [
    "Ycount_test.shape"
   ]
  },
  {
   "cell_type": "code",
   "execution_count": 407,
   "metadata": {},
   "outputs": [],
   "source": [
    "#YWaist_train = np.full((102728,100,1),1)"
   ]
  },
  {
   "cell_type": "code",
   "execution_count": 91,
   "metadata": {},
   "outputs": [],
   "source": [
    "params1 = {'batch_size': 20,'num_workers': 6}"
   ]
  },
  {
   "cell_type": "code",
   "execution_count": 92,
   "metadata": {},
   "outputs": [],
   "source": [
    "count_test_set = Dataset(X_countWaist,X_countWrist, Ycount_test)\n",
    "count_testset_generatorCombine = data.DataLoader(count_test_set, **params1)"
   ]
  },
  {
   "cell_type": "code",
   "execution_count": 93,
   "metadata": {},
   "outputs": [
    {
     "data": {
      "text/plain": [
       "torch.Size([240, 1, 100, 3])"
      ]
     },
     "execution_count": 93,
     "metadata": {},
     "output_type": "execute_result"
    }
   ],
   "source": [
    "X_countWaist.shape"
   ]
  },
  {
   "cell_type": "code",
   "execution_count": null,
   "metadata": {},
   "outputs": [],
   "source": []
  },
  {
   "cell_type": "code",
   "execution_count": 94,
   "metadata": {},
   "outputs": [],
   "source": [
    "#training_setCombine = Dataset(X_trainWaist, X_trainWrist, Y_trainWaist)\n",
    "#training_generatorCombine = data.DataLoader(training_setCombine, **params)"
   ]
  },
  {
   "cell_type": "code",
   "execution_count": 197,
   "metadata": {},
   "outputs": [
    {
     "ename": "ValueError",
     "evalue": "too many values to unpack (expected 2)",
     "output_type": "error",
     "traceback": [
      "\u001b[0;31m---------------------------------------------------------------------------\u001b[0m",
      "\u001b[0;31mValueError\u001b[0m                                Traceback (most recent call last)",
      "\u001b[0;32m<ipython-input-197-92c3c013f580>\u001b[0m in \u001b[0;36m<module>\u001b[0;34m\u001b[0m\n\u001b[1;32m      1\u001b[0m \u001b[0;32mwith\u001b[0m \u001b[0mtorch\u001b[0m\u001b[0;34m.\u001b[0m\u001b[0mno_grad\u001b[0m\u001b[0;34m(\u001b[0m\u001b[0;34m)\u001b[0m\u001b[0;34m:\u001b[0m\u001b[0;34m\u001b[0m\u001b[0;34m\u001b[0m\u001b[0m\n\u001b[0;32m----> 2\u001b[0;31m     \u001b[0;32mfor\u001b[0m \u001b[0mlocal_batch_waist\u001b[0m\u001b[0;34m,\u001b[0m \u001b[0mlocal_labels\u001b[0m \u001b[0;32min\u001b[0m \u001b[0mtestset_generatorCombine\u001b[0m\u001b[0;34m:\u001b[0m\u001b[0;34m\u001b[0m\u001b[0;34m\u001b[0m\u001b[0m\n\u001b[0m\u001b[1;32m      3\u001b[0m         \u001b[0mprint\u001b[0m\u001b[0;34m(\u001b[0m\u001b[0mlocal_labels\u001b[0m\u001b[0;34m)\u001b[0m\u001b[0;34m\u001b[0m\u001b[0;34m\u001b[0m\u001b[0m\n\u001b[1;32m      4\u001b[0m         \u001b[0;32mbreak\u001b[0m\u001b[0;34m\u001b[0m\u001b[0;34m\u001b[0m\u001b[0m\n",
      "\u001b[0;31mValueError\u001b[0m: too many values to unpack (expected 2)"
     ]
    }
   ],
   "source": [
    "with torch.no_grad():\n",
    "    for local_batch_waist, local_labels in testset_generatorCombine:\n",
    "        print(local_labels)\n",
    "        break"
   ]
  },
  {
   "cell_type": "code",
   "execution_count": 198,
   "metadata": {},
   "outputs": [
    {
     "name": "stdout",
     "output_type": "stream",
     "text": [
      "330\n"
     ]
    },
    {
     "data": {
      "text/plain": [
       "'    \\ntemp =[]\\nfor x in output:\\n    softmax = torch.exp(x).cpu()\\n    prob = list(softmax.numpy())\\n    temp.extend(prob)\\npredictions3 = np.argmax(temp, axis=1)\\n'"
      ]
     },
     "execution_count": 198,
     "metadata": {},
     "output_type": "execute_result"
    }
   ],
   "source": [
    "# prediction for training set\n",
    "output =[]\n",
    "prediction=[]\n",
    "count=0\n",
    "with torch.no_grad():\n",
    "    for local_batch_waist, local_batch_wrist, local_labels in testset_generatorCombine:\n",
    "        count=count+1\n",
    "            #local_batch_waist, local_batch_wrist, local_labels = local_batch_waist.to(device), local_batch_wrist.to(device), local_labels.to(device)\n",
    "        output.append(modelCombine(local_batch_waist.float().cuda(),local_batch_wrist.float().cuda()))\n",
    "        #output.append(modelWaist(local_batch.float().cuda()))\n",
    "        prediction.append(local_labels)\n",
    "        \n",
    "    print(count)        \n",
    "\"\"\"    \n",
    "temp =[]\n",
    "for x in output:\n",
    "    softmax = torch.exp(x).cpu()\n",
    "    prob = list(softmax.numpy())\n",
    "    temp.extend(prob)\n",
    "predictions3 = np.argmax(temp, axis=1)\n",
    "\"\"\""
   ]
  },
  {
   "cell_type": "code",
   "execution_count": 88,
   "metadata": {},
   "outputs": [],
   "source": [
    "output2 = open(\"splitdata/prediction5_squeeze.pkl\", 'wb')\n",
    "pickle.dump(output, output2)\n",
    "output2.close()\n",
    "output2 = open(\"splitdata/label5_sqiueeze.pkl\", 'wb')\n",
    "pickle.dump(prediction, output2)\n",
    "output2.close()"
   ]
  },
  {
   "cell_type": "code",
   "execution_count": 199,
   "metadata": {},
   "outputs": [
    {
     "name": "stdout",
     "output_type": "stream",
     "text": [
      "330\n",
      "7920 10185 644 2307\n"
     ]
    }
   ],
   "source": [
    "TP=0\n",
    "FP=0\n",
    "TN=0\n",
    "FN=0\n",
    "temp1=[]\n",
    "temp2=[]\n",
    "print(len(output))\n",
    "for i in range(0,(len(output)-1)):\n",
    "    pred=output[i]\n",
    "    labelset=prediction[i]\n",
    "    #print(pred)\n",
    "    #print(i)\n",
    "    for j in range(0,64):\n",
    "        #if(pred[j].item()!=0.5140):\n",
    "            #print('hello',pred[j].item())\n",
    "        #print(pred[j])\n",
    "        #print(labelset)\n",
    "        #for k in range(0,64):\n",
    "        temp1.append(pred[j].item())\n",
    "        temp2.append(labelset[j].item())\n",
    "        if (pred[j].item()>=0.5) and labelset[j].item()==1:\n",
    "            TP=TP+1\n",
    "        elif (pred[j].item()<0.5) and labelset[j].item()==1:\n",
    "            FN=FN+1\n",
    "        elif (pred[j].item()<0.5) and labelset[j].item()==0:\n",
    "            TN=TN+1\n",
    "        else:\n",
    "            FP=FP+1\n",
    "            \n",
    "print(TP,TN,FP,FN)\n",
    "    "
   ]
  },
  {
   "cell_type": "code",
   "execution_count": 94,
   "metadata": {},
   "outputs": [],
   "source": [
    "output2 = open(\"splitdata/prediction5.pkl\", 'wb')\n",
    "pickle.dump(temp1, output2)\n",
    "output2.close()\n",
    "output2 = open(\"splitdata/label5.pkl\", 'wb')\n",
    "pickle.dump(temp2, output2)\n",
    "output2.close()\n",
    "\n"
   ]
  },
  {
   "cell_type": "code",
   "execution_count": 202,
   "metadata": {},
   "outputs": [],
   "source": [
    "Precision = (TP/(TP+FP))\n",
    "Recall = (TP/(TP+FN))\n",
    "accuracy = (TP+TN)/(TP+FP+TN+FN)\n",
    "specificity = TN/(TN+FP)"
   ]
  },
  {
   "cell_type": "code",
   "execution_count": 204,
   "metadata": {},
   "outputs": [
    {
     "name": "stdout",
     "output_type": "stream",
     "text": [
      "0.9248014946286782\n",
      "0.7744206512173658\n",
      "0.8598499240121581\n",
      "0.940530058177117\n",
      "0.8429567346069927\n"
     ]
    }
   ],
   "source": [
    "print(Precision)\n",
    "print(Recall)\n",
    "print(accuracy)\n",
    "print(specificity)\n",
    "print(2*TP/(2*TP+FP+FN))"
   ]
  }
 ],
 "metadata": {
  "kernelspec": {
   "display_name": "Python 3",
   "language": "python",
   "name": "python3"
  },
  "language_info": {
   "codemirror_mode": {
    "name": "ipython",
    "version": 3
   },
   "file_extension": ".py",
   "mimetype": "text/x-python",
   "name": "python",
   "nbconvert_exporter": "python",
   "pygments_lexer": "ipython3",
   "version": "3.7.5"
  }
 },
 "nbformat": 4,
 "nbformat_minor": 4
}
